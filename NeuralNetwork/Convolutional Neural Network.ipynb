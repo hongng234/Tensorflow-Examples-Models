{
 "cells": [
  {
   "cell_type": "code",
   "execution_count": 1,
   "metadata": {
    "collapsed": false
   },
   "outputs": [
    {
     "name": "stderr",
     "output_type": "stream",
     "text": [
      "C:\\Users\\StrikeWade\\Anaconda3\\lib\\site-packages\\h5py\\__init__.py:36: FutureWarning: Conversion of the second argument of issubdtype from `float` to `np.floating` is deprecated. In future, it will be treated as `np.float64 == np.dtype(float).type`.\n",
      "  from ._conv import register_converters as _register_converters\n"
     ]
    },
    {
     "name": "stdout",
     "output_type": "stream",
     "text": [
      "Extracting C:/Users/StrikeWade/Desktop/DLML/Tensorflow Examples Models/mnist\\train-images-idx3-ubyte.gz\n",
      "Extracting C:/Users/StrikeWade/Desktop/DLML/Tensorflow Examples Models/mnist\\train-labels-idx1-ubyte.gz\n",
      "Extracting C:/Users/StrikeWade/Desktop/DLML/Tensorflow Examples Models/mnist\\t10k-images-idx3-ubyte.gz\n",
      "Extracting C:/Users/StrikeWade/Desktop/DLML/Tensorflow Examples Models/mnist\\t10k-labels-idx1-ubyte.gz\n"
     ]
    },
    {
     "name": "stderr",
     "output_type": "stream",
     "text": [
      "Using TensorFlow backend.\n"
     ]
    }
   ],
   "source": [
    "from __future__ import print_function, division, absolute_import\n",
    "\n",
    "#Import MNIST data\n",
    "from tensorflow.examples.tutorials.mnist import input_data\n",
    "mnist = input_data.read_data_sets('C:/Users/StrikeWade/Desktop/DLML/Tensorflow Examples Models/mnist', one_hot=True)\n",
    "\n",
    "import tensorflow as tf\n",
    "from keras import backend as K\n",
    "\n",
    "#Clear TF memory\n",
    "cfg = K.tf.ConfigProto()\n",
    "cfg.gpu_options.allow_growth = True\n",
    "K.set_session(K.tf.Session(config=cfg))"
   ]
  },
  {
   "cell_type": "code",
   "execution_count": 2,
   "metadata": {
    "collapsed": true
   },
   "outputs": [],
   "source": [
    "#Training Params\n",
    "learning_rate = 0.001\n",
    "num_steps = 1000\n",
    "batch_size = 128\n",
    "display_step = 50\n",
    "\n",
    "#Network Params\n",
    "num_input = 784 #MNIST data input feature (image shape: 28*28)\n",
    "num_classes = 10 #MNIST total classes (0-9)\n",
    "dropout = 0.75 #Dropout, probability to keep units\n",
    "\n",
    "#Tf Graph input\n",
    "x = tf.placeholder(dtype=tf.float32, shape=[None, num_input])\n",
    "y = tf.placeholder(dtype=tf.float32, shape=[None, num_classes])\n",
    "keep_prob = tf.placeholder(dtype=tf.float32) #dropout rate (0.75 keep, 0.25 drop)"
   ]
  },
  {
   "cell_type": "code",
   "execution_count": 3,
   "metadata": {
    "collapsed": false
   },
   "outputs": [],
   "source": [
    "#Create layers functions\n",
    "def conv2d(x, W, b, strides=1):\n",
    "    #Conv2d wrapper, with bias and relu activation\n",
    "    x = tf.nn.conv2d(x, W, strides=[1,strides,strides,1], padding='SAME')\n",
    "    x = tf.nn.bias_add(x, b)\n",
    "    return tf.nn.relu(x)\n",
    "\n",
    "def maxpool2d(x, k=2):\n",
    "    #Maxpool2d wrapper\n",
    "    return tf.nn.max_pool(x, \n",
    "                          ksize=[1,k,k,1], \n",
    "                          strides=[1,k,k,1], \n",
    "                          padding='SAME')"
   ]
  },
  {
   "cell_type": "code",
   "execution_count": 4,
   "metadata": {
    "collapsed": true
   },
   "outputs": [],
   "source": [
    "#Store layers weights & biases\n",
    "weights = {\n",
    "    #5x5 conv, 1 input, 32 outputs\n",
    "    'w1': tf.Variable(tf.random_normal(shape=[5,5,1,32])),\n",
    "    #5x5 conv, 32 inputs, 64 outputs\n",
    "    'w2': tf.Variable(tf.random_normal(shape=[5,5,32,64])),\n",
    "    #fully connected, 7x7x64 inputs, 1024 outputs\n",
    "    'fc': tf.Variable(tf.random_normal(shape=[7*7*64,1024])),\n",
    "    #1024 inputs, 10 outputs (class prediction)\n",
    "    'out': tf.Variable(tf.random_normal(shape=[1024,num_classes]))\n",
    "}\n",
    "\n",
    "biases = {\n",
    "    'b1': tf.Variable(tf.random_normal(shape=[32])),\n",
    "    'b2': tf.Variable(tf.random_normal(shape=[64])),\n",
    "    'bfc': tf.Variable(tf.random_normal(shape=[1024])),\n",
    "    'out': tf.Variable(tf.random_normal(shape=[num_classes]))\n",
    "}"
   ]
  },
  {
   "cell_type": "code",
   "execution_count": 5,
   "metadata": {
    "collapsed": true
   },
   "outputs": [],
   "source": [
    "#Create model function\n",
    "def conv_net(x, weights, biases, dropout):\n",
    "    #MNIST data input is a 1-D vector of 784 features (28*28 pixels)\n",
    "    #Reshape to match picture format [height x width x channel]\n",
    "    #Tensor input become 4-D: [Batch size, Height, Width, Channel]\n",
    "    x = tf.reshape(tensor=x, shape=[-1, 28, 28, 1])\n",
    "    \n",
    "    #Convolution layer 1\n",
    "    conv1 = conv2d(x=x, W=weights['w1'], b=biases['b1'])\n",
    "    #Maxpool layer 1 (down-sampling)\n",
    "    conv1 = maxpool2d(x=conv1, k=2)\n",
    "    \n",
    "    #Convolution layer 2\n",
    "    conv2 = conv2d(x=conv1, W=weights['w2'], b=biases['b2'])\n",
    "    #Maxpool layer 2 (down-sampling)\n",
    "    conv2 = maxpool2d(x=conv2, k=2)\n",
    "    \n",
    "    #Fully connected layer\n",
    "    #Reshape conv2 output to fit fully connected layer input\n",
    "    fc1 = tf.reshape(tensor=conv2, shape=[-1, weights['fc'].get_shape().as_list()[0]])\n",
    "    fc1 = tf.add(tf.matmul(fc1, weights['fc']), biases['bfc'])\n",
    "    fc1 = tf.nn.relu(fc1)\n",
    "    \n",
    "    #Apply Dropout\n",
    "    fc1 = tf.nn.dropout(fc1, keep_prob=dropout)\n",
    "    \n",
    "    #Output layer, class prediction\n",
    "    out = tf.add(tf.matmul(fc1, weights['out']), biases['out'])\n",
    "    \n",
    "    return out"
   ]
  },
  {
   "cell_type": "code",
   "execution_count": 6,
   "metadata": {
    "collapsed": false
   },
   "outputs": [
    {
     "name": "stdout",
     "output_type": "stream",
     "text": [
      "WARNING:tensorflow:From <ipython-input-6-089b32920d57>:6: softmax_cross_entropy_with_logits (from tensorflow.python.ops.nn_ops) is deprecated and will be removed in a future version.\n",
      "Instructions for updating:\n",
      "\n",
      "Future major versions of TensorFlow will allow gradients to flow\n",
      "into the labels input on backprop by default.\n",
      "\n",
      "See tf.nn.softmax_cross_entropy_with_logits_v2.\n",
      "\n"
     ]
    }
   ],
   "source": [
    "#Construct model\n",
    "logits = conv_net(x, weights, biases, keep_prob)\n",
    "prediction = tf.nn.softmax(logits)\n",
    "\n",
    "#Define loss and optimizer\n",
    "loss_op = tf.reduce_mean(tf.nn.softmax_cross_entropy_with_logits(logits=logits, labels=y))\n",
    "optimizer = tf.train.AdamOptimizer(learning_rate=learning_rate)\n",
    "optimizer = tf.contrib.estimator.clip_gradients_by_norm(optimizer, 5.0)\n",
    "train_op = optimizer.minimize(loss_op)\n",
    "\n",
    "#Evaluate model\n",
    "correct_pred = tf.equal(tf.argmax(prediction,1), tf.argmax(y,1))\n",
    "accuracy = tf.reduce_mean(tf.cast(correct_pred, dtype=tf.float32))\n",
    "\n",
    "#Init global variables\n",
    "init = tf.global_variables_initializer()"
   ]
  },
  {
   "cell_type": "code",
   "execution_count": 7,
   "metadata": {
    "collapsed": false,
    "scrolled": true
   },
   "outputs": [
    {
     "name": "stdout",
     "output_type": "stream",
     "text": [
      "Step  1 \n",
      "    Minibatch Loss= 55921.2109 \n",
      "    Training Accuracy= 0.1172\n",
      "Step  50 \n",
      "    Minibatch Loss= 3699.7712 \n",
      "    Training Accuracy= 0.8359\n",
      "Step  100 \n",
      "    Minibatch Loss= 1221.5076 \n",
      "    Training Accuracy= 0.9297\n",
      "Step  150 \n",
      "    Minibatch Loss= 1468.3538 \n",
      "    Training Accuracy= 0.9219\n",
      "Step  200 \n",
      "    Minibatch Loss= 598.1107 \n",
      "    Training Accuracy= 0.9531\n",
      "Step  250 \n",
      "    Minibatch Loss= 639.3346 \n",
      "    Training Accuracy= 0.9453\n",
      "Step  300 \n",
      "    Minibatch Loss= 260.7534 \n",
      "    Training Accuracy= 0.9609\n",
      "Step  350 \n",
      "    Minibatch Loss= 1270.9188 \n",
      "    Training Accuracy= 0.9141\n",
      "Step  400 \n",
      "    Minibatch Loss= 691.2950 \n",
      "    Training Accuracy= 0.9453\n",
      "Step  450 \n",
      "    Minibatch Loss= 159.2100 \n",
      "    Training Accuracy= 0.9531\n",
      "Step  500 \n",
      "    Minibatch Loss= 428.8839 \n",
      "    Training Accuracy= 0.9766\n",
      "Step  550 \n",
      "    Minibatch Loss= 298.8528 \n",
      "    Training Accuracy= 0.9453\n",
      "Step  600 \n",
      "    Minibatch Loss= 232.3773 \n",
      "    Training Accuracy= 0.9609\n",
      "Step  650 \n",
      "    Minibatch Loss= 108.1546 \n",
      "    Training Accuracy= 0.9844\n",
      "Step  700 \n",
      "    Minibatch Loss= 362.4687 \n",
      "    Training Accuracy= 0.9531\n",
      "Step  750 \n",
      "    Minibatch Loss= 420.5341 \n",
      "    Training Accuracy= 0.9609\n",
      "Step  800 \n",
      "    Minibatch Loss= 142.5397 \n",
      "    Training Accuracy= 0.9766\n",
      "Step  850 \n",
      "    Minibatch Loss= 202.6930 \n",
      "    Training Accuracy= 0.9688\n",
      "Step  900 \n",
      "    Minibatch Loss= 365.3250 \n",
      "    Training Accuracy= 0.9688\n",
      "Step  950 \n",
      "    Minibatch Loss= 55.0610 \n",
      "    Training Accuracy= 0.9844\n",
      "Step  1000 \n",
      "    Minibatch Loss= 84.0410 \n",
      "    Training Accuracy= 0.9766\n",
      "-->Training Completed!!!!\n",
      "-->Test Accuracy:  0.984375\n"
     ]
    }
   ],
   "source": [
    "#Start training\n",
    "training_loss = []\n",
    "\n",
    "with tf.Session() as sess:\n",
    "    #Run init\n",
    "    sess.run(init)\n",
    "    \n",
    "    for step in range(1, num_steps+1):\n",
    "        #Iterate to next batch\n",
    "        batch_x, batch_y = mnist.train.next_batch(batch_size)\n",
    "        #Optimization op (backprop)\n",
    "        sess.run(train_op, feed_dict={x: batch_x, y: batch_y, keep_prob: dropout})\n",
    "        \n",
    "        if step % display_step == 0 or step == 1:\n",
    "            #Calculate batch loss and accuracy\n",
    "            loss, acc = sess.run([loss_op, accuracy], feed_dict={x: batch_x, y: batch_y, keep_prob: 1.0})\n",
    "            training_loss.append(loss)\n",
    "            \n",
    "            print('Step ', str(step), '\\n    Minibatch Loss= {:.4f}'.format(loss), '\\n    Training Accuracy= {:.4f}'.format(acc))\n",
    "            \n",
    "    print('-->Training Completed!!!!')\n",
    "    \n",
    "    #Calculate accuracy for 256 MNIST test images\n",
    "    print('-->Test Accuracy: ', sess.run(accuracy, feed_dict={x: mnist.test.images[:256], \n",
    "                                                              y: mnist.test.labels[:256],\n",
    "                                                              keep_prob: 1.0}))"
   ]
  },
  {
   "cell_type": "code",
   "execution_count": 8,
   "metadata": {
    "collapsed": false,
    "scrolled": true
   },
   "outputs": [
    {
     "data": {
      "text/plain": [
       "[55921.21,\n",
       " 3699.7712,\n",
       " 1221.5076,\n",
       " 1468.3538,\n",
       " 598.1107,\n",
       " 639.3346,\n",
       " 260.75336,\n",
       " 1270.9188,\n",
       " 691.29504,\n",
       " 159.20999,\n",
       " 428.88394,\n",
       " 298.85278,\n",
       " 232.37729,\n",
       " 108.15456,\n",
       " 362.4687,\n",
       " 420.53406,\n",
       " 142.53966,\n",
       " 202.69296,\n",
       " 365.32495,\n",
       " 55.060993,\n",
       " 84.04099]"
      ]
     },
     "execution_count": 8,
     "metadata": {},
     "output_type": "execute_result"
    }
   ],
   "source": [
    "training_loss"
   ]
  },
  {
   "cell_type": "code",
   "execution_count": 9,
   "metadata": {
    "collapsed": false
   },
   "outputs": [
    {
     "data": {
      "image/png": "[encoded data removed]",
      "text/plain": [
       "<matplotlib.figure.Figure at 0x19db8e8fc88>"
      ]
     },
     "metadata": {},
     "output_type": "display_data"
    }
   ],
   "source": [
    "import matplotlib.pyplot as plt\n",
    "\n",
    "plt.xlabel('Steps')\n",
    "plt.ylabel('Train Loss')\n",
    "plt.title('Train loss over steps')\n",
    "plt.plot(training_loss, label='training')\n",
    "plt.legend()\n",
    "plt.show()"
   ]
  },
  {
   "cell_type": "code",
   "execution_count": null,
   "metadata": {
    "collapsed": true
   },
   "outputs": [],
   "source": []
  }
 ],
 "metadata": {
  "anaconda-cloud": {},
  "kernelspec": {
   "display_name": "Python [conda root]",
   "language": "python",
   "name": "conda-root-py"
  },
  "language_info": {
   "codemirror_mode": {
    "name": "ipython",
    "version": 3
   },
   "file_extension": ".py",
   "mimetype": "text/x-python",
   "name": "python",
   "nbconvert_exporter": "python",
   "pygments_lexer": "ipython3",
   "version": "3.5.2"
  }
 },
 "nbformat": 4,
 "nbformat_minor": 1
}
