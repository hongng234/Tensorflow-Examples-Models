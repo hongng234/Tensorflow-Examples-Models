{
 "cells": [
  {
   "cell_type": "code",
   "execution_count": 1,
   "metadata": {
    "collapsed": false
   },
   "outputs": [
    {
     "name": "stderr",
     "output_type": "stream",
     "text": [
      "C:\\Users\\StrikeWade\\Anaconda3\\lib\\site-packages\\h5py\\__init__.py:36: FutureWarning: Conversion of the second argument of issubdtype from `float` to `np.floating` is deprecated. In future, it will be treated as `np.float64 == np.dtype(float).type`.\n",
      "  from ._conv import register_converters as _register_converters\n"
     ]
    },
    {
     "name": "stdout",
     "output_type": "stream",
     "text": [
      "Extracting ../Tensorflow Examples Models/mnist\\train-images-idx3-ubyte.gz\n",
      "Extracting ../Tensorflow Examples Models/mnist\\train-labels-idx1-ubyte.gz\n",
      "Extracting ../Tensorflow Examples Models/mnist\\t10k-images-idx3-ubyte.gz\n",
      "Extracting ../Tensorflow Examples Models/mnist\\t10k-labels-idx1-ubyte.gz\n"
     ]
    },
    {
     "name": "stderr",
     "output_type": "stream",
     "text": [
      "Using TensorFlow backend.\n"
     ]
    }
   ],
   "source": [
    "from __future__ import print_function\n",
    "\n",
    "import tensorflow as tf\n",
    "from tensorflow.contrib import rnn\n",
    "import matplotlib.pyplot as plt\n",
    "import numpy as np\n",
    "import pandas as pd\n",
    "\n",
    "#Import MNIST data\n",
    "from tensorflow.examples.tutorials.mnist import input_data\n",
    "\n",
    "mnist = input_data.read_data_sets('../Tensorflow Examples Models/mnist', one_hot=True)\n",
    "\n",
    "from keras import backend as K\n",
    "\n",
    "#Clear TF memory\n",
    "cfg = K.tf.ConfigProto()\n",
    "cfg.gpu_options.allow_growth = True\n",
    "K.set_session(K.tf.Session(config=cfg))"
   ]
  },
  {
   "cell_type": "code",
   "execution_count": 2,
   "metadata": {
    "collapsed": true
   },
   "outputs": [],
   "source": [
    "#Training Params\n",
    "learning_rate = 0.001\n",
    "training_step = 10000\n",
    "batch_size = 128\n",
    "display_step = 200\n",
    "\n",
    "#Network Params\n",
    "num_input = 28 #MNIST data input (img shape = 28*28)\n",
    "timesteps = 28 #timesteps\n",
    "num_hidden = 128 #Hidden layer num of features\n",
    "num_classes = 10 # 0-9 digits\n",
    "\n",
    "#TF placeholder graph input\n",
    "x = tf.placeholder(dtype=tf.float32, shape=[None, timesteps, num_input])\n",
    "y = tf.placeholder(dtype=tf.float32, shape=[None, num_classes])"
   ]
  },
  {
   "cell_type": "code",
   "execution_count": 3,
   "metadata": {
    "collapsed": true
   },
   "outputs": [],
   "source": [
    "#Define weights and biases\n",
    "weights={\n",
    "    #Hidden layer weights -> 2*n_hidden because of forward + backward celss\n",
    "    'out': tf.Variable(tf.random_normal(shape=[2*num_hidden, num_classes]))\n",
    "}\n",
    "\n",
    "biases={\n",
    "    'out': tf.Variable(tf.random_normal(shape=[num_classes]))\n",
    "}"
   ]
  },
  {
   "cell_type": "code",
   "execution_count": 4,
   "metadata": {
    "collapsed": false
   },
   "outputs": [],
   "source": [
    "def BiRNN(x, weights, biases):\n",
    "    #Prepare data shape to match rnn function requirements\n",
    "    #Current data input shape: (batch_size, timesteps, num_input)\n",
    "    #Require shape: 'timesteps' tensor list of shape (batch_size, num_input) \n",
    "    \n",
    "    #Unstack to get a list of 'timesteps' tensors of shape (batch_size, num_input)\n",
    "    x = tf.unstack(x, timesteps, 1)\n",
    "    \n",
    "    #Define LSTM cells with tensorflow\n",
    "    #Forward direction cell\n",
    "    lstm_fw_cell = rnn.BasicLSTMCell(num_hidden, forget_bias=1.0)\n",
    "    #Backward direction cell\n",
    "    lstm_bw_cell = rnn.BasicLSTMCell(num_hidden, forget_bias=1.0)\n",
    "    \n",
    "    #Get LSTM cell output\n",
    "    try:\n",
    "        outputs, _, _ = rnn.static_bidirectional_rnn(cell_fw=lstm_fw_cell, \n",
    "                                                     cell_bw=lstm_bw_cell, \n",
    "                                                     inputs=x, \n",
    "                                                     dtype=tf.float32)\n",
    "    except Exception: \n",
    "        outputs = rnn.static_bidirectional_rnn(cell_fw=lstm_fw_cell, \n",
    "                                               cell_bw=lstm_bw_cell, \n",
    "                                               inputs=x, \n",
    "                                               dtype=tf.float32)\n",
    "        \n",
    "    #Linear activation, using RNN inner loop last output\n",
    "    return tf.matmul(outputs[-1], weights['out']) + biases['out']"
   ]
  },
  {
   "cell_type": "code",
   "execution_count": 5,
   "metadata": {
    "collapsed": false
   },
   "outputs": [
    {
     "name": "stdout",
     "output_type": "stream",
     "text": [
      "WARNING:tensorflow:From <ipython-input-5-0e264da2acf6>:5: softmax_cross_entropy_with_logits (from tensorflow.python.ops.nn_ops) is deprecated and will be removed in a future version.\n",
      "Instructions for updating:\n",
      "\n",
      "Future major versions of TensorFlow will allow gradients to flow\n",
      "into the labels input on backprop by default.\n",
      "\n",
      "See tf.nn.softmax_cross_entropy_with_logits_v2.\n",
      "\n"
     ]
    }
   ],
   "source": [
    "logits = BiRNN(x, weights, biases)\n",
    "prediction = tf.nn.softmax(logits=logits)\n",
    "\n",
    "#Define loss and optimizer\n",
    "loss_op = tf.reduce_mean(tf.nn.softmax_cross_entropy_with_logits(logits=logits, labels=y))\n",
    "optimizer = tf.train.GradientDescentOptimizer(learning_rate=learning_rate)\n",
    "optimizer = tf.contrib.estimator.clip_gradients_by_norm(optimizer, 5.0)\n",
    "train_op = optimizer.minimize(loss_op)\n",
    "\n",
    "#Evaluate model (with test logits, for dropout to be disabled)\n",
    "correct_pred = tf.equal(tf.argmax(prediction, 1), tf.argmax(y, 1))\n",
    "accuracy = tf.reduce_mean(tf.cast(correct_pred, dtype=tf.float32))\n",
    "\n",
    "#Init global variable\n",
    "init = tf.global_variables_initializer()"
   ]
  },
  {
   "cell_type": "code",
   "execution_count": 6,
   "metadata": {
    "collapsed": false,
    "scrolled": true
   },
   "outputs": [
    {
     "name": "stdout",
     "output_type": "stream",
     "text": [
      "Step:  1 \n",
      "    Minibatch loss= 3.1286 \n",
      "    Training accuracy= 0.125\n",
      "Step:  200 \n",
      "    Minibatch loss= 1.9725 \n",
      "    Training accuracy= 0.383\n",
      "Step:  400 \n",
      "    Minibatch loss= 1.9383 \n",
      "    Training accuracy= 0.297\n",
      "Step:  600 \n",
      "    Minibatch loss= 1.7900 \n",
      "    Training accuracy= 0.367\n",
      "Step:  800 \n",
      "    Minibatch loss= 1.6193 \n",
      "    Training accuracy= 0.617\n",
      "Step:  1000 \n",
      "    Minibatch loss= 1.6306 \n",
      "    Training accuracy= 0.438\n",
      "Step:  1200 \n",
      "    Minibatch loss= 1.5440 \n",
      "    Training accuracy= 0.547\n",
      "Step:  1400 \n",
      "    Minibatch loss= 1.5337 \n",
      "    Training accuracy= 0.508\n",
      "Step:  1600 \n",
      "    Minibatch loss= 1.5292 \n",
      "    Training accuracy= 0.492\n",
      "Step:  1800 \n",
      "    Minibatch loss= 1.2987 \n",
      "    Training accuracy= 0.609\n",
      "Step:  2000 \n",
      "    Minibatch loss= 1.2257 \n",
      "    Training accuracy= 0.578\n",
      "Step:  2200 \n",
      "    Minibatch loss= 1.2717 \n",
      "    Training accuracy= 0.539\n",
      "Step:  2400 \n",
      "    Minibatch loss= 1.0954 \n",
      "    Training accuracy= 0.664\n",
      "Step:  2600 \n",
      "    Minibatch loss= 1.2088 \n",
      "    Training accuracy= 0.531\n",
      "Step:  2800 \n",
      "    Minibatch loss= 1.1062 \n",
      "    Training accuracy= 0.664\n",
      "Step:  3000 \n",
      "    Minibatch loss= 0.8828 \n",
      "    Training accuracy= 0.711\n",
      "Step:  3200 \n",
      "    Minibatch loss= 1.0547 \n",
      "    Training accuracy= 0.734\n",
      "Step:  3400 \n",
      "    Minibatch loss= 0.9810 \n",
      "    Training accuracy= 0.680\n",
      "Step:  3600 \n",
      "    Minibatch loss= 0.9048 \n",
      "    Training accuracy= 0.719\n",
      "Step:  3800 \n",
      "    Minibatch loss= 0.9677 \n",
      "    Training accuracy= 0.688\n",
      "Step:  4000 \n",
      "    Minibatch loss= 0.9079 \n",
      "    Training accuracy= 0.688\n",
      "Step:  4200 \n",
      "    Minibatch loss= 0.9931 \n",
      "    Training accuracy= 0.711\n",
      "Step:  4400 \n",
      "    Minibatch loss= 1.0082 \n",
      "    Training accuracy= 0.672\n",
      "Step:  4600 \n",
      "    Minibatch loss= 0.7369 \n",
      "    Training accuracy= 0.766\n",
      "Step:  4800 \n",
      "    Minibatch loss= 0.8101 \n",
      "    Training accuracy= 0.719\n",
      "Step:  5000 \n",
      "    Minibatch loss= 0.7071 \n",
      "    Training accuracy= 0.797\n",
      "Step:  5200 \n",
      "    Minibatch loss= 0.7161 \n",
      "    Training accuracy= 0.797\n",
      "Step:  5400 \n",
      "    Minibatch loss= 0.7356 \n",
      "    Training accuracy= 0.789\n",
      "Step:  5600 \n",
      "    Minibatch loss= 0.7793 \n",
      "    Training accuracy= 0.750\n",
      "Step:  5800 \n",
      "    Minibatch loss= 0.7127 \n",
      "    Training accuracy= 0.789\n",
      "Step:  6000 \n",
      "    Minibatch loss= 0.6582 \n",
      "    Training accuracy= 0.773\n",
      "Step:  6200 \n",
      "    Minibatch loss= 0.5972 \n",
      "    Training accuracy= 0.812\n",
      "Step:  6400 \n",
      "    Minibatch loss= 0.6561 \n",
      "    Training accuracy= 0.812\n",
      "Step:  6600 \n",
      "    Minibatch loss= 0.5714 \n",
      "    Training accuracy= 0.805\n",
      "Step:  6800 \n",
      "    Minibatch loss= 0.6799 \n",
      "    Training accuracy= 0.781\n",
      "Step:  7000 \n",
      "    Minibatch loss= 0.5239 \n",
      "    Training accuracy= 0.828\n",
      "Step:  7200 \n",
      "    Minibatch loss= 0.5789 \n",
      "    Training accuracy= 0.805\n",
      "Step:  7400 \n",
      "    Minibatch loss= 0.6116 \n",
      "    Training accuracy= 0.820\n",
      "Step:  7600 \n",
      "    Minibatch loss= 0.4685 \n",
      "    Training accuracy= 0.859\n",
      "Step:  7800 \n",
      "    Minibatch loss= 0.4774 \n",
      "    Training accuracy= 0.844\n",
      "Step:  8000 \n",
      "    Minibatch loss= 0.6654 \n",
      "    Training accuracy= 0.805\n",
      "Step:  8200 \n",
      "    Minibatch loss= 0.4871 \n",
      "    Training accuracy= 0.867\n",
      "Step:  8400 \n",
      "    Minibatch loss= 0.5681 \n",
      "    Training accuracy= 0.812\n",
      "Step:  8600 \n",
      "    Minibatch loss= 0.4697 \n",
      "    Training accuracy= 0.875\n",
      "Step:  8800 \n",
      "    Minibatch loss= 0.6742 \n",
      "    Training accuracy= 0.758\n",
      "Step:  9000 \n",
      "    Minibatch loss= 0.4774 \n",
      "    Training accuracy= 0.844\n",
      "Step:  9200 \n",
      "    Minibatch loss= 0.3989 \n",
      "    Training accuracy= 0.898\n",
      "Step:  9400 \n",
      "    Minibatch loss= 0.3752 \n",
      "    Training accuracy= 0.891\n",
      "Step:  9600 \n",
      "    Minibatch loss= 0.4694 \n",
      "    Training accuracy= 0.852\n",
      "Step:  9800 \n",
      "    Minibatch loss= 0.5001 \n",
      "    Training accuracy= 0.844\n",
      "Step:  10000 \n",
      "    Minibatch loss= 0.3892 \n",
      "    Training accuracy= 0.867\n",
      "-->BIRNN training completed!!!\n",
      "-->Testing Accuracy:  0.8984375\n"
     ]
    }
   ],
   "source": [
    "#Start training\n",
    "training_loss =[]\n",
    "\n",
    "with tf.Session() as sess:\n",
    "    sess.run(init)\n",
    "    \n",
    "    for step in range(1, training_step+1):\n",
    "        batch_x, batch_y = mnist.train.next_batch(batch_size)\n",
    "        #Reshape data to get 28 seq of 28 elements\n",
    "        batch_x = batch_x.reshape((batch_size, timesteps, num_input))\n",
    "        \n",
    "        #Run optimization op (backprop)\n",
    "        sess.run(train_op, feed_dict={x: batch_x, y: batch_y})\n",
    "        if step % display_step == 0 or step == 1:\n",
    "            #Calculate batch loss and accuracy\n",
    "            loss, acc = sess.run([loss_op, accuracy], feed_dict={x: batch_x, y: batch_y})\n",
    "            training_loss.append(loss)\n",
    "            \n",
    "            print('Step: ', str(step), '\\n    Minibatch loss= {:.4f}'.format(loss), '\\n    Training accuracy= {:.3f}'.format(acc))\n",
    "            \n",
    "    print('-->BIRNN training completed!!!')\n",
    "    \n",
    "    #Calculate accuracy for 128 mnist test images\n",
    "    test_len = 128\n",
    "    test_data = mnist.test.images[:test_len].reshape((-1, timesteps, num_input))\n",
    "    test_label = mnist.test.labels[:test_len]\n",
    "    \n",
    "    print('-->Testing Accuracy: ', sess.run(accuracy, feed_dict={x: test_data, y: test_label}))"
   ]
  },
  {
   "cell_type": "code",
   "execution_count": 11,
   "metadata": {
    "collapsed": false
   },
   "outputs": [
    {
     "data": {
      "image/png": "[encoded data removed]",
      "text/plain": [
       "<matplotlib.figure.Figure at 0x234215da4a8>"
      ]
     },
     "metadata": {},
     "output_type": "display_data"
    }
   ],
   "source": [
    "plt.plot(training_loss)\n",
    "plt.show()"
   ]
  },
  {
   "cell_type": "code",
   "execution_count": null,
   "metadata": {
    "collapsed": true
   },
   "outputs": [],
   "source": []
  }
 ],
 "metadata": {
  "kernelspec": {
   "display_name": "Python [conda root]",
   "language": "python",
   "name": "conda-root-py"
  },
  "language_info": {
   "codemirror_mode": {
    "name": "ipython",
    "version": 3
   },
   "file_extension": ".py",
   "mimetype": "text/x-python",
   "name": "python",
   "nbconvert_exporter": "python",
   "pygments_lexer": "ipython3",
   "version": "3.5.2"
  }
 },
 "nbformat": 4,
 "nbformat_minor": 1
}
