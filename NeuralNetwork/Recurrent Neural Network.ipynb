{
 "cells": [
  {
   "cell_type": "code",
   "execution_count": 1,
   "metadata": {
    "collapsed": false
   },
   "outputs": [
    {
     "name": "stderr",
     "output_type": "stream",
     "text": [
      "C:\\Users\\StrikeWade\\Anaconda3\\lib\\site-packages\\h5py\\__init__.py:36: FutureWarning: Conversion of the second argument of issubdtype from `float` to `np.floating` is deprecated. In future, it will be treated as `np.float64 == np.dtype(float).type`.\n",
      "  from ._conv import register_converters as _register_converters\n"
     ]
    },
    {
     "name": "stdout",
     "output_type": "stream",
     "text": [
      "Extracting ../Tensorflow Examples Models/mnist\\train-images-idx3-ubyte.gz\n",
      "Extracting ../Tensorflow Examples Models/mnist\\train-labels-idx1-ubyte.gz\n",
      "Extracting ../Tensorflow Examples Models/mnist\\t10k-images-idx3-ubyte.gz\n",
      "Extracting ../Tensorflow Examples Models/mnist\\t10k-labels-idx1-ubyte.gz\n"
     ]
    },
    {
     "name": "stderr",
     "output_type": "stream",
     "text": [
      "Using TensorFlow backend.\n"
     ]
    }
   ],
   "source": [
    "from __future__ import print_function\n",
    "\n",
    "import tensorflow as tf\n",
    "from tensorflow.contrib import rnn\n",
    "import matplotlib.pyplot as plt\n",
    "\n",
    "#Import MNIST data\n",
    "from tensorflow.examples.tutorials.mnist import input_data\n",
    "\n",
    "mnist = input_data.read_data_sets('../Tensorflow Examples Models/mnist', one_hot=True)\n",
    "\n",
    "from keras import backend as K\n",
    "\n",
    "#Clear TF memory\n",
    "cfg = K.tf.ConfigProto()\n",
    "cfg.gpu_options.allow_growth = True\n",
    "K.set_session(K.tf.Session(config=cfg))\n",
    "\n",
    "#To classify images using a RNN, we consider every image row as a sequence of pixels. Because MNIST image shape is 28*28px,\n",
    "#so we will handle 28 sequences of 28 timesteps for every sample"
   ]
  },
  {
   "cell_type": "code",
   "execution_count": 2,
   "metadata": {
    "collapsed": true
   },
   "outputs": [],
   "source": [
    "#Training Parameters\n",
    "learning_rate = 0.001\n",
    "training_steps = 2000\n",
    "batch_size = 128\n",
    "display_step = 200\n",
    "\n",
    "#Network Parameters\n",
    "num_input = 28 #MNIST data input(imageshape 28*28)\n",
    "timesteps = 28 #Timesteps\n",
    "num_hidden = 128 #Hidden layer num of features\n",
    "num_classes = 10 #MNIST total classes (0-9 digits)\n",
    "\n",
    "#TF graph input\n",
    "x = tf.placeholder(dtype=tf.float32, shape=[None, timesteps, num_input])\n",
    "y = tf.placeholder(dtype=tf.float32, shape=[None, num_classes])"
   ]
  },
  {
   "cell_type": "code",
   "execution_count": 3,
   "metadata": {
    "collapsed": true
   },
   "outputs": [],
   "source": [
    "#Define Weights and biases\n",
    "weights = {\n",
    "    'out': tf.Variable(tf.random_normal(shape=[num_hidden, num_classes]))\n",
    "}\n",
    "biases = {\n",
    "    'out': tf.Variable(tf.random_normal(shape=[num_classes]))\n",
    "}"
   ]
  },
  {
   "cell_type": "code",
   "execution_count": 4,
   "metadata": {
    "collapsed": true
   },
   "outputs": [],
   "source": [
    "#RNN model\n",
    "def RNN(x, weights, biases):\n",
    "    #Prepare data shape to match rnn function requirements\n",
    "    #Current data input shape(batch_size, timesteps, n_input)\n",
    "    #Required shape: 'timesteps' tensors list of shape (batch_size, n_input)\n",
    "    \n",
    "    #Unstack to get a list of 'timesteps' tensors of shape (batch_size, n_input)\n",
    "    x = tf.unstack(x, timesteps, 1)\n",
    "    \n",
    "    #Define a LSTM cell with a tensorflow\n",
    "    lstm_cell = rnn.BasicLSTMCell(num_hidden, forget_bias=1.0)\n",
    "    \n",
    "    #Get LSTM cell output\n",
    "    outputs, states = rnn.static_rnn(lstm_cell, x, dtype=tf.float32)\n",
    "    \n",
    "    #Linear activation, using RNN inner loop last output\n",
    "    return tf.matmul(outputs[-1], weights['out']) + biases['out']"
   ]
  },
  {
   "cell_type": "code",
   "execution_count": 5,
   "metadata": {
    "collapsed": false
   },
   "outputs": [
    {
     "name": "stdout",
     "output_type": "stream",
     "text": [
      "WARNING:tensorflow:From <ipython-input-5-50e97a0fc6e8>:5: softmax_cross_entropy_with_logits (from tensorflow.python.ops.nn_ops) is deprecated and will be removed in a future version.\n",
      "Instructions for updating:\n",
      "\n",
      "Future major versions of TensorFlow will allow gradients to flow\n",
      "into the labels input on backprop by default.\n",
      "\n",
      "See tf.nn.softmax_cross_entropy_with_logits_v2.\n",
      "\n"
     ]
    }
   ],
   "source": [
    "logits = RNN(x, weights, biases)\n",
    "prediction = tf.nn.softmax(logits)\n",
    "\n",
    "#Define Loss and optimizer\n",
    "loss_op = tf.reduce_mean(tf.nn.softmax_cross_entropy_with_logits(logits=logits, labels=y))\n",
    "optimizer = tf.train.GradientDescentOptimizer(learning_rate=learning_rate)\n",
    "optimizer = tf.contrib.estimator.clip_gradients_by_norm(optimizer, 5.0)\n",
    "train_op = optimizer.minimize(loss_op)\n",
    "\n",
    "#Evaluate model (with test logits, for dropout to be disabled)\n",
    "correct_pred = tf.equal(tf.argmax(prediction,1), tf.argmax(y,1))\n",
    "accuracy = tf.reduce_mean(tf.cast(correct_pred, dtype=tf.float32))\n",
    "\n",
    "#Initialize the global variables\n",
    "init = tf.global_variables_initializer()"
   ]
  },
  {
   "cell_type": "code",
   "execution_count": 6,
   "metadata": {
    "collapsed": false
   },
   "outputs": [
    {
     "name": "stdout",
     "output_type": "stream",
     "text": [
      "Step:  1 \n",
      "    Minibatch loss= 2.5476 \n",
      "    Training Accuracy= 0.062\n",
      "Step:  200 \n",
      "    Minibatch loss= 2.1121 \n",
      "    Training Accuracy= 0.273\n",
      "Step:  400 \n",
      "    Minibatch loss= 1.8733 \n",
      "    Training Accuracy= 0.391\n",
      "Step:  600 \n",
      "    Minibatch loss= 1.6932 \n",
      "    Training Accuracy= 0.453\n",
      "Step:  800 \n",
      "    Minibatch loss= 1.6507 \n",
      "    Training Accuracy= 0.492\n",
      "Step:  1000 \n",
      "    Minibatch loss= 1.5577 \n",
      "    Training Accuracy= 0.484\n",
      "Step:  1200 \n",
      "    Minibatch loss= 1.5525 \n",
      "    Training Accuracy= 0.445\n",
      "Step:  1400 \n",
      "    Minibatch loss= 1.3211 \n",
      "    Training Accuracy= 0.625\n",
      "Step:  1600 \n",
      "    Minibatch loss= 1.3321 \n",
      "    Training Accuracy= 0.578\n",
      "Step:  1800 \n",
      "    Minibatch loss= 1.2696 \n",
      "    Training Accuracy= 0.578\n",
      "-->Training RNN Completed\n",
      "-->Testing Accuracy:  0.546875\n"
     ]
    }
   ],
   "source": [
    "#Start training\n",
    "training_loss = []\n",
    "with tf.Session() as sess:\n",
    "    sess.run(init)\n",
    "    \n",
    "    for step in range(1, training_steps):\n",
    "        batch_x, batch_y = mnist.train.next_batch(batch_size)\n",
    "        #Reshape data to get 28 seq of 28 elements\n",
    "        batch_x = batch_x.reshape((batch_size, timesteps, num_input))\n",
    "        \n",
    "        #Run optimization (backprop)\n",
    "        sess.run(train_op, feed_dict={x: batch_x, y: batch_y})\n",
    "        if step % display_step == 0 or step == 1:\n",
    "            #Calculate batch loss and accuracy\n",
    "            loss, acc = sess.run([loss_op, accuracy], feed_dict={x: batch_x, y: batch_y})\n",
    "            training_loss.append(loss)\n",
    "            print('Step: ', str(step), '\\n    Minibatch loss= {:.4f}'.format(loss), '\\n    Training Accuracy= {:.3f}'.format(acc))\n",
    "            \n",
    "    print('-->Training RNN Completed')\n",
    "    \n",
    "    #Calculate accuracy for 128 Mnist test images\n",
    "    test_len = 128\n",
    "    test_data = mnist.test.images[:test_len].reshape((-1, timesteps, num_input))\n",
    "    test_label = mnist.test.labels[:test_len]\n",
    "    print('-->Testing Accuracy: ', sess.run(accuracy, feed_dict={x: test_data, y: test_label}))"
   ]
  },
  {
   "cell_type": "code",
   "execution_count": 7,
   "metadata": {
    "collapsed": false
   },
   "outputs": [
    {
     "data": {
      "image/png": "[encoded data removed]",
      "text/plain": [
       "<matplotlib.figure.Figure at 0x185c88e0630>"
      ]
     },
     "metadata": {},
     "output_type": "display_data"
    }
   ],
   "source": [
    "plt.plot(training_loss)\n",
    "plt.show()"
   ]
  },
  {
   "cell_type": "code",
   "execution_count": null,
   "metadata": {
    "collapsed": true
   },
   "outputs": [],
   "source": []
  }
 ],
 "metadata": {
  "kernelspec": {
   "display_name": "Python [conda root]",
   "language": "python",
   "name": "conda-root-py"
  },
  "language_info": {
   "codemirror_mode": {
    "name": "ipython",
    "version": 3
   },
   "file_extension": ".py",
   "mimetype": "text/x-python",
   "name": "python",
   "nbconvert_exporter": "python",
   "pygments_lexer": "ipython3",
   "version": "3.5.2"
  }
 },
 "nbformat": 4,
 "nbformat_minor": 1
}
