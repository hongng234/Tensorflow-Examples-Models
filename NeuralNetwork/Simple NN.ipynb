{
 "cells": [
  {
   "cell_type": "code",
   "execution_count": 1,
   "metadata": {
    "collapsed": false
   },
   "outputs": [
    {
     "name": "stderr",
     "output_type": "stream",
     "text": [
      "C:\\Users\\StrikeWade\\Anaconda3\\lib\\site-packages\\h5py\\__init__.py:36: FutureWarning: Conversion of the second argument of issubdtype from `float` to `np.floating` is deprecated. In future, it will be treated as `np.float64 == np.dtype(float).type`.\n",
      "  from ._conv import register_converters as _register_converters\n"
     ]
    },
    {
     "name": "stdout",
     "output_type": "stream",
     "text": [
      "Extracting C:/Users/StrikeWade/Desktop/DLML/Tensorflow Examples Models/mnist\\train-images-idx3-ubyte.gz\n",
      "Extracting C:/Users/StrikeWade/Desktop/DLML/Tensorflow Examples Models/mnist\\train-labels-idx1-ubyte.gz\n",
      "Extracting C:/Users/StrikeWade/Desktop/DLML/Tensorflow Examples Models/mnist\\t10k-images-idx3-ubyte.gz\n",
      "Extracting C:/Users/StrikeWade/Desktop/DLML/Tensorflow Examples Models/mnist\\t10k-labels-idx1-ubyte.gz\n"
     ]
    },
    {
     "name": "stderr",
     "output_type": "stream",
     "text": [
      "Using TensorFlow backend.\n"
     ]
    }
   ],
   "source": [
    "from __future__ import print_function\n",
    "\n",
    "#Import MNIST data\n",
    "from tensorflow.examples.tutorials.mnist import input_data\n",
    "mnist = input_data.read_data_sets('C:/Users/StrikeWade/Desktop/DLML/Tensorflow Examples Models/mnist', one_hot=True)\n",
    "\n",
    "import tensorflow as tf\n",
    "from keras import backend as K\n",
    "\n",
    "#Clear TF memory\n",
    "cfg = K.tf.ConfigProto()\n",
    "cfg.gpu_options.allow_growth = True\n",
    "K.set_session(K.tf.Session(config=cfg))"
   ]
  },
  {
   "cell_type": "code",
   "execution_count": 2,
   "metadata": {
    "collapsed": true
   },
   "outputs": [],
   "source": [
    "#Parameters\n",
    "learning_rate = 0.1\n",
    "num_steps = 500\n",
    "batch_size = 128\n",
    "display_step = 100\n",
    "\n",
    "#Network Parameters\n",
    "n_hidden_1 = 256 #1st layer number of neurons\n",
    "n_hidden_2 = 256 #2nd layer number of neurons\n",
    "num_input = 784 #Mnist data input has 784 features (img_shape=28*28)\n",
    "num_classes = 10 #Mnist total classes (0-9 digits)\n",
    "\n",
    "#tf Graph input\n",
    "x = tf.placeholder(dtype=tf.float32, shape=[None, num_input])\n",
    "y = tf.placeholder(dtype=tf.float32, shape=[None, num_classes])"
   ]
  },
  {
   "cell_type": "code",
   "execution_count": 3,
   "metadata": {
    "collapsed": false
   },
   "outputs": [],
   "source": [
    "#Store layers weight & bias\n",
    "weights = {\n",
    "    'h1': tf.Variable(tf.random_normal([num_input, n_hidden_1])),\n",
    "    'h2': tf.Variable(tf.random_normal([n_hidden_1, n_hidden_2])),\n",
    "    'out': tf.Variable(tf.random_normal([n_hidden_2, num_classes]))\n",
    "}\n",
    "\n",
    "biases = {\n",
    "    'b1': tf.Variable(tf.random_normal([n_hidden_1])),\n",
    "    'b2': tf.Variable(tf.random_normal([n_hidden_2])),\n",
    "    'out': tf.Variable(tf.random_normal([num_classes]))\n",
    "}"
   ]
  },
  {
   "cell_type": "code",
   "execution_count": 4,
   "metadata": {
    "collapsed": true
   },
   "outputs": [],
   "source": [
    "#Create model\n",
    "def simple_neural_net(x):\n",
    "    #Hidden layer with 256 neurons\n",
    "    layer_1 = tf.add(tf.matmul(x, weights['h1']), biases['b1'])\n",
    "    #Hidden layer with 256 neurons\n",
    "    layer_2 = tf.add(tf.matmul(layer_1, weights['h2']), biases['b2'])\n",
    "    #Output fully connected layer with a neuron for each class\n",
    "    out_layer = tf.add(tf.matmul(layer_2, weights['out']), biases['out'])\n",
    "    return out_layer"
   ]
  },
  {
   "cell_type": "code",
   "execution_count": 5,
   "metadata": {
    "collapsed": false,
    "scrolled": true
   },
   "outputs": [
    {
     "name": "stdout",
     "output_type": "stream",
     "text": [
      "WARNING:tensorflow:From <ipython-input-5-d1ba4ffc8f16>:5: softmax_cross_entropy_with_logits (from tensorflow.python.ops.nn_ops) is deprecated and will be removed in a future version.\n",
      "Instructions for updating:\n",
      "\n",
      "Future major versions of TensorFlow will allow gradients to flow\n",
      "into the labels input on backprop by default.\n",
      "\n",
      "See tf.nn.softmax_cross_entropy_with_logits_v2.\n",
      "\n"
     ]
    }
   ],
   "source": [
    "#Construct model\n",
    "logits = simple_neural_net(x)\n",
    "\n",
    "#Define loss and optimizer\n",
    "loss_op = tf.reduce_mean(tf.nn.softmax_cross_entropy_with_logits(logits=logits, labels=y))\n",
    "optimizer = tf.train.AdamOptimizer(learning_rate=learning_rate)\n",
    "train_op = optimizer.minimize(loss_op)\n",
    "\n",
    "#Evaluate model(with test logits, for dropout to be disabled)\n",
    "correct_pred = tf.equal(tf.argmax(logits,1), tf.argmax(y,1))\n",
    "accuracy = tf.reduce_mean(tf.cast(correct_pred, dtype=tf.float32))\n",
    "\n",
    "#Init global variable\n",
    "init = tf.global_variables_initializer()"
   ]
  },
  {
   "cell_type": "code",
   "execution_count": 7,
   "metadata": {
    "collapsed": false
   },
   "outputs": [
    {
     "name": "stdout",
     "output_type": "stream",
     "text": [
      "Step:  100 \n",
      "    Minibatch Loss= 307.6748 \n",
      "    Training Accuracy= 0.883\n",
      "Step:  200 \n",
      "    Minibatch Loss= 155.1941 \n",
      "    Training Accuracy= 0.906\n",
      "Step:  300 \n",
      "    Minibatch Loss= 80.9356 \n",
      "    Training Accuracy= 0.875\n",
      "Step:  400 \n",
      "    Minibatch Loss= 69.4892 \n",
      "    Training Accuracy= 0.867\n",
      "Step:  500 \n",
      "    Minibatch Loss= 29.8902 \n",
      "    Training Accuracy= 0.898\n",
      "-->Training Completed!!!\n",
      "-->Testing Accuracy: 0.8435\n"
     ]
    }
   ],
   "source": [
    "#Start trainning\n",
    "with tf.Session() as sess:\n",
    "    \n",
    "    #Run init\n",
    "    sess.run(init)\n",
    "    \n",
    "    for step in range(1, num_steps+1):\n",
    "        batch_x, batch_y = mnist.train.next_batch(batch_size=batch_size)\n",
    "        \n",
    "        #Run optimization op (backprop)\n",
    "        sess.run(train_op, feed_dict={x: batch_x, y: batch_y})\n",
    "        if step % display_step == 0:\n",
    "            #Calculate batch loss and accuracy\n",
    "            loss, acc = sess.run([loss_op, accuracy], feed_dict={x: batch_x, y: batch_y})\n",
    "            print('Step: ', str(step), '\\n    Minibatch Loss= {:.4f}'.format(loss), '\\n    Training Accuracy= {:.3f}'.format(acc))\n",
    "            \n",
    "    print('-->Training Completed!!!')\n",
    "    \n",
    "    #Calculate accuracy for MNIST test images\n",
    "    print('-->Testing Accuracy: {:.4f}'.format(sess.run(accuracy, feed_dict={x: mnist.test.images, y: mnist.test.labels})))"
   ]
  },
  {
   "cell_type": "code",
   "execution_count": null,
   "metadata": {
    "collapsed": true
   },
   "outputs": [],
   "source": []
  }
 ],
 "metadata": {
  "anaconda-cloud": {},
  "kernelspec": {
   "display_name": "Python [conda root]",
   "language": "python",
   "name": "conda-root-py"
  },
  "language_info": {
   "codemirror_mode": {
    "name": "ipython",
    "version": 3
   },
   "file_extension": ".py",
   "mimetype": "text/x-python",
   "name": "python",
   "nbconvert_exporter": "python",
   "pygments_lexer": "ipython3",
   "version": "3.5.2"
  }
 },
 "nbformat": 4,
 "nbformat_minor": 1
}
