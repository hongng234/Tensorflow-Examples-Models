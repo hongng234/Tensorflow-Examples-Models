{
 "cells": [
  {
   "cell_type": "raw",
   "metadata": {},
   "source": [
    "# For this example, you need to make your own set of images (JPEG). We will show 2 different ways to build that dataset:\n",
    "\n",
    "-->From a root folder, that will have a sub-folder containing images for each class\n",
    "    ROOT_FOLDER\n",
    "       |-------- SUBFOLDER (CLASS 0)\n",
    "       |             |\n",
    "       |             | ----- image1.jpg\n",
    "       |             | ----- image2.jpg\n",
    "       |             | ----- etc...\n",
    "       |             \n",
    "       |-------- SUBFOLDER (CLASS 1)\n",
    "       |             |\n",
    "       |             | ----- image1.jpg\n",
    "       |             | ----- image2.jpg\n",
    "       |             | ----- etc...\n",
    "       \n",
    "-->From a plain text file, that will list all images with their class ID:\n",
    "    /path/to/image/1.jpg CLASS_ID\n",
    "    /path/to/image/2.jpg CLASS_ID\n",
    "    /path/to/image/3.jpg CLASS_ID\n",
    "    /path/to/image/4.jpg CLASS_ID\n",
    "    etc..."
   ]
  },
  {
   "cell_type": "code",
   "execution_count": 1,
   "metadata": {
    "collapsed": false
   },
   "outputs": [
    {
     "name": "stderr",
     "output_type": "stream",
     "text": [
      "C:\\Users\\StrikeWade\\Anaconda3\\lib\\site-packages\\h5py\\__init__.py:36: FutureWarning: Conversion of the second argument of issubdtype from `float` to `np.floating` is deprecated. In future, it will be treated as `np.float64 == np.dtype(float).type`.\n",
      "  from ._conv import register_converters as _register_converters\n"
     ]
    }
   ],
   "source": [
    "from __future__ import print_function\n",
    "\n",
    "from IPython import display\n",
    "\n",
    "import tensorflow as tf\n",
    "import os\n",
    "\n",
    "#Dataset params\n",
    "MODE = 'folder' #or 'file'\n",
    "DATASET_PATH = '../Data Management/dataset/'\n",
    "\n",
    "#Image params\n",
    "N_CLASSES = 2 #total number of classes\n",
    "IMG_HEIGHT = 64 #the image height to be resized to\n",
    "IMG_WIDTH = 64 #the image width to be resized to\n",
    "CHANNELS = 3 #the 3 color channels, change to 1 if grayscale"
   ]
  },
  {
   "cell_type": "code",
   "execution_count": 2,
   "metadata": {
    "collapsed": true
   },
   "outputs": [],
   "source": [
    "#Reading the dataset\n",
    "#2 modes: 'file' or 'folder'\n",
    "def read_images(dataset_path, mode, batch_size):\n",
    "    imagepaths, labels = list(), list()\n",
    "    if mode == 'file':\n",
    "        #Read dataset file\n",
    "        data = open(dataset_path, 'r').read().splitlines()\n",
    "        for d in data:\n",
    "            imagepaths.append(d.split(' ')[0])\n",
    "            labels.append(int(d.split(' ')[1]))\n",
    "    \n",
    "    elif mode == 'folder':\n",
    "        #An ID will be affected to each sub-folders by alphabetical order\n",
    "        label = 0\n",
    "        #List the directory\n",
    "        try: #Python 2\n",
    "            classes = sorted(os.walk(dataset_path).next()[1])\n",
    "        except Exception: #Python 3\n",
    "            classes = sorted(os.walk(dataset_path).__next__()[1])\n",
    "            \n",
    "        print('Classes: ', classes)\n",
    "        \n",
    "        #List each sub-directory (the classes)\n",
    "        for c in classes:\n",
    "            c_dir = os.path.join(dataset_path, c)\n",
    "            try: #Python 2\n",
    "                walk = os.walk(c_dir).next()\n",
    "            except Exception: #Python 3\n",
    "                walk = os.walk(c_dir).__next__()\n",
    "            \n",
    "            #Add each image to the training set\n",
    "            for sample in walk[2]:\n",
    "                #Only keeps jpeg images\n",
    "                if sample.endswith('.jpg') or sample.endswith('.jpeg') or sample.endswith('.png'):\n",
    "                    imagepaths.append(os.path.join(c_dir, sample))\n",
    "                    labels.append(label)\n",
    "            label += 1\n",
    "    else:\n",
    "        raise Exception('Unknown mode.')\n",
    "        \n",
    "    print(imagepaths)\n",
    "    print(' ')\n",
    "    print(labels)\n",
    "    \n",
    "    #Convert to tensor\n",
    "    imagepaths = tf.convert_to_tensor(imagepaths, dtype=tf.string)\n",
    "    labels = tf.convert_to_tensor(labels, dtype=tf.int32)\n",
    "    \n",
    "    #Build a TF Queue, shuffle data\n",
    "    image, label = tf.train.slice_input_producer(tensor_list=[imagepaths, labels], shuffle=True)\n",
    "    \n",
    "    #Read images from disk\n",
    "    image = tf.read_file(image)\n",
    "    image = tf.image.decode_jpeg(image, channels=CHANNELS)\n",
    "    \n",
    "    #Resize images to a common size\n",
    "    image = tf.image.resize_images(image, size=[IMG_HEIGHT, IMG_WIDTH])\n",
    "\n",
    "    \n",
    "    #Normalize\n",
    "    image = image * 1.0/127.5 - 1.0\n",
    "\n",
    "    #Create batches\n",
    "    x, y = tf.train.batch([image, label], \n",
    "                          batch_size=batch_size, \n",
    "                          capacity=batch_size*8, \n",
    "                          num_threads=4)\n",
    "    print(x)\n",
    "    print(y)\n",
    "    \n",
    "    return x, y"
   ]
  },
  {
   "cell_type": "code",
   "execution_count": 3,
   "metadata": {
    "collapsed": false
   },
   "outputs": [
    {
     "name": "stdout",
     "output_type": "stream",
     "text": [
      "Classes:  ['bubble', 'ice']\n",
      "['../Data Management/dataset/bubble\\\\image1.jpg', '../Data Management/dataset/bubble\\\\image2.jpg', '../Data Management/dataset/bubble\\\\image3.jpg', '../Data Management/dataset/bubble\\\\image4.jpg', '../Data Management/dataset/ice\\\\image1.jpg', '../Data Management/dataset/ice\\\\image2.jpg', '../Data Management/dataset/ice\\\\image3.jpg', '../Data Management/dataset/ice\\\\image4.jpg']\n",
      " \n",
      "[0, 0, 0, 0, 1, 1, 1, 1]\n",
      "Tensor(\"batch:0\", shape=(4, 64, 64, 3), dtype=float32)\n",
      "Tensor(\"batch:1\", shape=(4,), dtype=int32)\n"
     ]
    }
   ],
   "source": [
    "#Classic CNN\n",
    "#Params\n",
    "learning_rate = 0.001\n",
    "num_steps = 1000\n",
    "batch_size = 4\n",
    "display_step = 100\n",
    "\n",
    "#Network Param\n",
    "dropout = 0.75 #Probability to keep units\n",
    "\n",
    "#Build the data input\n",
    "X, Y = read_images(DATASET_PATH, MODE, batch_size)"
   ]
  },
  {
   "cell_type": "code",
   "execution_count": 4,
   "metadata": {
    "collapsed": false
   },
   "outputs": [
    {
     "data": {
      "text/plain": [
       "<tf.Tensor 'batch:0' shape=(4, 64, 64, 3) dtype=float32>"
      ]
     },
     "execution_count": 4,
     "metadata": {},
     "output_type": "execute_result"
    }
   ],
   "source": [
    "X"
   ]
  },
  {
   "cell_type": "code",
   "execution_count": 5,
   "metadata": {
    "collapsed": false
   },
   "outputs": [
    {
     "data": {
      "text/plain": [
       "<tf.Tensor 'batch:1' shape=(4,) dtype=int32>"
      ]
     },
     "execution_count": 5,
     "metadata": {},
     "output_type": "execute_result"
    }
   ],
   "source": [
    "Y"
   ]
  },
  {
   "cell_type": "code",
   "execution_count": 6,
   "metadata": {
    "collapsed": false
   },
   "outputs": [],
   "source": [
    "#Create CNN model\n",
    "def conv_net(x, n_classes, dropout, reuse, is_training):\n",
    "    #Define a scope for reusing the variables\n",
    "    with tf.variable_scope('ConvNet', reuse=reuse):\n",
    "        #Convolution layer 1 with 32 filters and a kernel size of 5\n",
    "        conv1 = tf.layers.conv2d(inputs=x, filters=32, kernel_size=5, activation=tf.nn.relu)\n",
    "        #MaxPooling(down-sampling) with strides 2 and kernel size 2\n",
    "        conv1 = tf.layers.max_pooling2d(inputs=conv1, strides=2, pool_size=2)\n",
    "        \n",
    "        #Convolution layer 2 with 64 filters and a kernel size of 3\n",
    "        conv2 = tf.layers.conv2d(inputs=conv1, filters=64, kernel_size=3, activation=tf.nn.relu)\n",
    "        #MaxPooling with strides 2 and kernel size 2\n",
    "        conv2 = tf.layers.max_pooling2d(inputs=conv2, strides=2, pool_size=2)\n",
    "        \n",
    "        #Flatten the data to a 1-D vector for fully connected\n",
    "        fc1 = tf.contrib.layers.flatten(inputs=conv2)\n",
    "        \n",
    "        #Fully connected layer\n",
    "        fc1 = tf.layers.dense(inputs=fc1, units=1024)\n",
    "        \n",
    "        #Apply dropout(if is_training is False, dropout is not applied)\n",
    "        fc1 = tf.layers.dropout(inputs=fc1, rate=dropout, training=is_training)\n",
    "        \n",
    "        #Output layer\n",
    "        out = tf.layers.dense(inputs=fc1, units=n_classes)\n",
    "        \n",
    "        #Because softmax_cross_entropy_with_logits already apply softmax,\n",
    "        #we only apply softmax to testing network\n",
    "#         out = tf.nn.softmax(out) if not is_training else out\n",
    "        \n",
    "    return out"
   ]
  },
  {
   "cell_type": "code",
   "execution_count": 7,
   "metadata": {
    "collapsed": false,
    "scrolled": true
   },
   "outputs": [],
   "source": [
    "#Because dropout have different behavior at training and prediction time, we\n",
    "#need to create 2 distinct computation graphs that share the same weights\n",
    "\n",
    "#Tf graph input\n",
    "x = tf.placeholder(dtype=tf.float32, shape=[None, IMG_HEIGHT, IMG_WIDTH, CHANNELS])\n",
    "y = tf.placeholder(dtype=tf.float32, shape=[None, N_CLASSES])\n",
    "\n",
    "#Create a graph for training\n",
    "logits_train = conv_net(x=X, n_classes=N_CLASSES, dropout=dropout, reuse=False, is_training=True)\n",
    "prediction = tf.nn.softmax(logits_train)\n",
    "#Create another graph for testing that reuse the same weights\n",
    "logits_test = conv_net(x=X, n_classes=N_CLASSES, dropout=dropout, reuse=True, is_training=False)\n",
    "\n",
    "#Define loss and optimizer(with train logits, for dropout to take effect)\n",
    "loss_op = tf.reduce_mean(tf.nn.sparse_softmax_cross_entropy_with_logits(logits=logits_train, labels=Y))\n",
    "optimizer = tf.train.AdamOptimizer(learning_rate=learning_rate)\n",
    "train_op = optimizer.minimize(loss_op)\n",
    "\n",
    "#Evaluate model(with test logits for dropout to be disabled)\n",
    "correct_pred = tf.equal(tf.argmax(logits_test, 1), tf.cast(Y, dtype=tf.int64))\n",
    "accuracy = tf.reduce_mean(tf.cast(correct_pred, tf.float32))\n",
    "\n",
    "#Initialize the variables\n",
    "init = tf.global_variables_initializer()\n",
    "\n",
    "#Saver object\n",
    "saver = tf.train.Saver()"
   ]
  },
  {
   "cell_type": "code",
   "execution_count": 8,
   "metadata": {
    "collapsed": false
   },
   "outputs": [
    {
     "name": "stdout",
     "output_type": "stream",
     "text": [
      "Step 100, Minibatch Loss= 0.0000, Training Accuracy= 1.000\n",
      "Step 200, Minibatch Loss= 0.0000, Training Accuracy= 1.000\n",
      "Step 300, Minibatch Loss= 0.0000, Training Accuracy= 1.000\n",
      "Step 400, Minibatch Loss= 0.0000, Training Accuracy= 1.000\n",
      "Step 500, Minibatch Loss= 0.0000, Training Accuracy= 1.000\n",
      "Step 600, Minibatch Loss= 0.0000, Training Accuracy= 1.000\n",
      "Step 700, Minibatch Loss= 0.0000, Training Accuracy= 1.000\n",
      "Step 800, Minibatch Loss= 0.0000, Training Accuracy= 1.000\n",
      "Step 900, Minibatch Loss= 0.0000, Training Accuracy= 1.000\n",
      "Step 1000, Minibatch Loss= 0.0000, Training Accuracy= 1.000\n",
      "Training Completed!!!\n",
      "ERROR:tensorflow:Exception in QueueRunner: Enqueue operation was cancelled\n",
      "\t [[Node: input_producer/input_producer/input_producer_EnqueueMany = QueueEnqueueManyV2[Tcomponents=[DT_INT32], timeout_ms=-1, _device=\"/job:localhost/replica:0/task:0/device:CPU:0\"](input_producer/input_producer, input_producer/input_producer/RandomShuffle)]]\n",
      "ERROR:tensorflow:Exception in QueueRunner: Enqueue operation was cancelled\n",
      "\t [[Node: batch/fifo_queue_enqueue = QueueEnqueueV2[Tcomponents=[DT_FLOAT, DT_INT32], timeout_ms=-1, _device=\"/job:localhost/replica:0/task:0/device:CPU:0\"](batch/fifo_queue, sub/_9, input_producer/Gather_1)]]\n",
      "ERROR:tensorflow:Exception in QueueRunner: Enqueue operation was cancelled\n",
      "\t [[Node: batch/fifo_queue_enqueue = QueueEnqueueV2[Tcomponents=[DT_FLOAT, DT_INT32], timeout_ms=-1, _device=\"/job:localhost/replica:0/task:0/device:CPU:0\"](batch/fifo_queue, sub/_9, input_producer/Gather_1)]]\n",
      "ERROR:tensorflow:Exception in QueueRunner: Enqueue operation was cancelled\n",
      "\t [[Node: batch/fifo_queue_enqueue = QueueEnqueueV2[Tcomponents=[DT_FLOAT, DT_INT32], timeout_ms=-1, _device=\"/job:localhost/replica:0/task:0/device:CPU:0\"](batch/fifo_queue, sub/_9, input_producer/Gather_1)]]\n",
      "ERROR:tensorflow:Exception in QueueRunner: Enqueue operation was cancelled\n",
      "\t [[Node: batch/fifo_queue_enqueue = QueueEnqueueV2[Tcomponents=[DT_FLOAT, DT_INT32], timeout_ms=-1, _device=\"/job:localhost/replica:0/task:0/device:CPU:0\"](batch/fifo_queue, sub/_9, input_producer/Gather_1)]]\n"
     ]
    },
    {
     "name": "stderr",
     "output_type": "stream",
     "text": [
      "Exception in thread QueueRunnerThread-input_producer/input_producer-input_producer/input_producer/input_producer_EnqueueMany:\n",
      "Traceback (most recent call last):\n",
      "  File \"C:\\Users\\StrikeWade\\Anaconda3\\lib\\threading.py\", line 914, in _bootstrap_inner\n",
      "    self.run()\n",
      "  File \"C:\\Users\\StrikeWade\\Anaconda3\\lib\\threading.py\", line 862, in run\n",
      "    self._target(*self._args, **self._kwargs)\n",
      "  File \"C:\\Users\\StrikeWade\\Anaconda3\\lib\\site-packages\\tensorflow\\python\\training\\queue_runner_impl.py\", line 250, in _run\n",
      "    enqueue_callable()\n",
      "  File \"C:\\Users\\StrikeWade\\Anaconda3\\lib\\site-packages\\tensorflow\\python\\client\\session.py\", line 1251, in _single_operation_run\n",
      "    self._session, None, {}, [], target_list, status, None)\n",
      "  File \"C:\\Users\\StrikeWade\\Anaconda3\\lib\\site-packages\\tensorflow\\python\\framework\\errors_impl.py\", line 473, in __exit__\n",
      "    c_api.TF_GetCode(self.status.status))\n",
      "tensorflow.python.framework.errors_impl.CancelledError: Enqueue operation was cancelled\n",
      "\t [[Node: input_producer/input_producer/input_producer_EnqueueMany = QueueEnqueueManyV2[Tcomponents=[DT_INT32], timeout_ms=-1, _device=\"/job:localhost/replica:0/task:0/device:CPU:0\"](input_producer/input_producer, input_producer/input_producer/RandomShuffle)]]\n",
      "\n",
      "Exception in thread QueueRunnerThread-batch/fifo_queue-batch/fifo_queue_enqueue:\n",
      "Traceback (most recent call last):\n",
      "  File \"C:\\Users\\StrikeWade\\Anaconda3\\lib\\threading.py\", line 914, in _bootstrap_inner\n",
      "    self.run()\n",
      "  File \"C:\\Users\\StrikeWade\\Anaconda3\\lib\\threading.py\", line 862, in run\n",
      "    self._target(*self._args, **self._kwargs)\n",
      "  File \"C:\\Users\\StrikeWade\\Anaconda3\\lib\\site-packages\\tensorflow\\python\\training\\queue_runner_impl.py\", line 250, in _run\n",
      "    enqueue_callable()\n",
      "  File \"C:\\Users\\StrikeWade\\Anaconda3\\lib\\site-packages\\tensorflow\\python\\client\\session.py\", line 1251, in _single_operation_run\n",
      "    self._session, None, {}, [], target_list, status, None)\n",
      "  File \"C:\\Users\\StrikeWade\\Anaconda3\\lib\\site-packages\\tensorflow\\python\\framework\\errors_impl.py\", line 473, in __exit__\n",
      "    c_api.TF_GetCode(self.status.status))\n",
      "tensorflow.python.framework.errors_impl.CancelledError: Enqueue operation was cancelled\n",
      "\t [[Node: batch/fifo_queue_enqueue = QueueEnqueueV2[Tcomponents=[DT_FLOAT, DT_INT32], timeout_ms=-1, _device=\"/job:localhost/replica:0/task:0/device:CPU:0\"](batch/fifo_queue, sub/_9, input_producer/Gather_1)]]\n",
      "\n",
      "Exception in thread QueueRunnerThread-batch/fifo_queue-batch/fifo_queue_enqueue:\n",
      "Traceback (most recent call last):\n",
      "  File \"C:\\Users\\StrikeWade\\Anaconda3\\lib\\threading.py\", line 914, in _bootstrap_inner\n",
      "    self.run()\n",
      "  File \"C:\\Users\\StrikeWade\\Anaconda3\\lib\\threading.py\", line 862, in run\n",
      "    self._target(*self._args, **self._kwargs)\n",
      "  File \"C:\\Users\\StrikeWade\\Anaconda3\\lib\\site-packages\\tensorflow\\python\\training\\queue_runner_impl.py\", line 250, in _run\n",
      "    enqueue_callable()\n",
      "  File \"C:\\Users\\StrikeWade\\Anaconda3\\lib\\site-packages\\tensorflow\\python\\client\\session.py\", line 1251, in _single_operation_run\n",
      "    self._session, None, {}, [], target_list, status, None)\n",
      "  File \"C:\\Users\\StrikeWade\\Anaconda3\\lib\\site-packages\\tensorflow\\python\\framework\\errors_impl.py\", line 473, in __exit__\n",
      "    c_api.TF_GetCode(self.status.status))\n",
      "tensorflow.python.framework.errors_impl.CancelledError: Enqueue operation was cancelled\n",
      "\t [[Node: batch/fifo_queue_enqueue = QueueEnqueueV2[Tcomponents=[DT_FLOAT, DT_INT32], timeout_ms=-1, _device=\"/job:localhost/replica:0/task:0/device:CPU:0\"](batch/fifo_queue, sub/_9, input_producer/Gather_1)]]\n",
      "\n",
      "Exception in thread QueueRunnerThread-batch/fifo_queue-batch/fifo_queue_enqueue:\n",
      "Traceback (most recent call last):\n",
      "  File \"C:\\Users\\StrikeWade\\Anaconda3\\lib\\threading.py\", line 914, in _bootstrap_inner\n",
      "    self.run()\n",
      "  File \"C:\\Users\\StrikeWade\\Anaconda3\\lib\\threading.py\", line 862, in run\n",
      "    self._target(*self._args, **self._kwargs)\n",
      "  File \"C:\\Users\\StrikeWade\\Anaconda3\\lib\\site-packages\\tensorflow\\python\\training\\queue_runner_impl.py\", line 250, in _run\n",
      "    enqueue_callable()\n",
      "  File \"C:\\Users\\StrikeWade\\Anaconda3\\lib\\site-packages\\tensorflow\\python\\client\\session.py\", line 1251, in _single_operation_run\n",
      "    self._session, None, {}, [], target_list, status, None)\n",
      "  File \"C:\\Users\\StrikeWade\\Anaconda3\\lib\\site-packages\\tensorflow\\python\\framework\\errors_impl.py\", line 473, in __exit__\n",
      "    c_api.TF_GetCode(self.status.status))\n",
      "tensorflow.python.framework.errors_impl.CancelledError: Enqueue operation was cancelled\n",
      "\t [[Node: batch/fifo_queue_enqueue = QueueEnqueueV2[Tcomponents=[DT_FLOAT, DT_INT32], timeout_ms=-1, _device=\"/job:localhost/replica:0/task:0/device:CPU:0\"](batch/fifo_queue, sub/_9, input_producer/Gather_1)]]\n",
      "\n",
      "Exception in thread QueueRunnerThread-batch/fifo_queue-batch/fifo_queue_enqueue:\n",
      "Traceback (most recent call last):\n",
      "  File \"C:\\Users\\StrikeWade\\Anaconda3\\lib\\threading.py\", line 914, in _bootstrap_inner\n",
      "    self.run()\n",
      "  File \"C:\\Users\\StrikeWade\\Anaconda3\\lib\\threading.py\", line 862, in run\n",
      "    self._target(*self._args, **self._kwargs)\n",
      "  File \"C:\\Users\\StrikeWade\\Anaconda3\\lib\\site-packages\\tensorflow\\python\\training\\queue_runner_impl.py\", line 250, in _run\n",
      "    enqueue_callable()\n",
      "  File \"C:\\Users\\StrikeWade\\Anaconda3\\lib\\site-packages\\tensorflow\\python\\client\\session.py\", line 1251, in _single_operation_run\n",
      "    self._session, None, {}, [], target_list, status, None)\n",
      "  File \"C:\\Users\\StrikeWade\\Anaconda3\\lib\\site-packages\\tensorflow\\python\\framework\\errors_impl.py\", line 473, in __exit__\n",
      "    c_api.TF_GetCode(self.status.status))\n",
      "tensorflow.python.framework.errors_impl.CancelledError: Enqueue operation was cancelled\n",
      "\t [[Node: batch/fifo_queue_enqueue = QueueEnqueueV2[Tcomponents=[DT_FLOAT, DT_INT32], timeout_ms=-1, _device=\"/job:localhost/replica:0/task:0/device:CPU:0\"](batch/fifo_queue, sub/_9, input_producer/Gather_1)]]\n",
      "\n"
     ]
    },
    {
     "ename": "ValueError",
     "evalue": "Parent directory of my_tf_model doesn't exist, can't save.",
     "output_type": "error",
     "traceback": [
      "\u001b[0;31m---------------------------------------------------------------------------\u001b[0m",
      "\u001b[0;31mNotFoundError\u001b[0m                             Traceback (most recent call last)",
      "\u001b[0;32mC:\\Users\\StrikeWade\\Anaconda3\\lib\\site-packages\\tensorflow\\python\\client\\session.py\u001b[0m in \u001b[0;36m_do_call\u001b[0;34m(self, fn, *args)\u001b[0m\n\u001b[1;32m   1349\u001b[0m     \u001b[1;32mtry\u001b[0m\u001b[1;33m:\u001b[0m\u001b[1;33m\u001b[0m\u001b[0m\n\u001b[0;32m-> 1350\u001b[0;31m       \u001b[1;32mreturn\u001b[0m \u001b[0mfn\u001b[0m\u001b[1;33m(\u001b[0m\u001b[1;33m*\u001b[0m\u001b[0margs\u001b[0m\u001b[1;33m)\u001b[0m\u001b[1;33m\u001b[0m\u001b[0m\n\u001b[0m\u001b[1;32m   1351\u001b[0m     \u001b[1;32mexcept\u001b[0m \u001b[0merrors\u001b[0m\u001b[1;33m.\u001b[0m\u001b[0mOpError\u001b[0m \u001b[1;32mas\u001b[0m \u001b[0me\u001b[0m\u001b[1;33m:\u001b[0m\u001b[1;33m\u001b[0m\u001b[0m\n",
      "\u001b[0;32mC:\\Users\\StrikeWade\\Anaconda3\\lib\\site-packages\\tensorflow\\python\\client\\session.py\u001b[0m in \u001b[0;36m_run_fn\u001b[0;34m(session, feed_dict, fetch_list, target_list, options, run_metadata)\u001b[0m\n\u001b[1;32m   1328\u001b[0m                                    \u001b[0mfeed_dict\u001b[0m\u001b[1;33m,\u001b[0m \u001b[0mfetch_list\u001b[0m\u001b[1;33m,\u001b[0m \u001b[0mtarget_list\u001b[0m\u001b[1;33m,\u001b[0m\u001b[1;33m\u001b[0m\u001b[0m\n\u001b[0;32m-> 1329\u001b[0;31m                                    status, run_metadata)\n\u001b[0m\u001b[1;32m   1330\u001b[0m \u001b[1;33m\u001b[0m\u001b[0m\n",
      "\u001b[0;32mC:\\Users\\StrikeWade\\Anaconda3\\lib\\site-packages\\tensorflow\\python\\framework\\errors_impl.py\u001b[0m in \u001b[0;36m__exit__\u001b[0;34m(self, type_arg, value_arg, traceback_arg)\u001b[0m\n\u001b[1;32m    472\u001b[0m             \u001b[0mcompat\u001b[0m\u001b[1;33m.\u001b[0m\u001b[0mas_text\u001b[0m\u001b[1;33m(\u001b[0m\u001b[0mc_api\u001b[0m\u001b[1;33m.\u001b[0m\u001b[0mTF_Message\u001b[0m\u001b[1;33m(\u001b[0m\u001b[0mself\u001b[0m\u001b[1;33m.\u001b[0m\u001b[0mstatus\u001b[0m\u001b[1;33m.\u001b[0m\u001b[0mstatus\u001b[0m\u001b[1;33m)\u001b[0m\u001b[1;33m)\u001b[0m\u001b[1;33m,\u001b[0m\u001b[1;33m\u001b[0m\u001b[0m\n\u001b[0;32m--> 473\u001b[0;31m             c_api.TF_GetCode(self.status.status))\n\u001b[0m\u001b[1;32m    474\u001b[0m     \u001b[1;31m# Delete the underlying status object from memory otherwise it stays alive\u001b[0m\u001b[1;33m\u001b[0m\u001b[1;33m\u001b[0m\u001b[0m\n",
      "\u001b[0;31mNotFoundError\u001b[0m: Failed to create a directory: ; No such file or directory\n\t [[Node: save/SaveV2 = SaveV2[dtypes=[DT_FLOAT, DT_FLOAT, DT_FLOAT, DT_FLOAT, DT_FLOAT, DT_FLOAT, DT_FLOAT, DT_FLOAT, DT_FLOAT, DT_FLOAT, DT_FLOAT, DT_FLOAT, DT_FLOAT, DT_FLOAT, DT_FLOAT, DT_FLOAT, DT_FLOAT, DT_FLOAT, DT_FLOAT, DT_FLOAT, DT_FLOAT, DT_FLOAT, DT_FLOAT, DT_FLOAT, DT_FLOAT, DT_FLOAT], _device=\"/job:localhost/replica:0/task:0/device:CPU:0\"](_arg_save/Const_0_0, save/SaveV2/tensor_names, save/SaveV2/shape_and_slices, ConvNet/conv2d/bias/_47, ConvNet/conv2d/bias/Adam/_49, ConvNet/conv2d/bias/Adam_1/_51, ConvNet/conv2d/kernel/_53, ConvNet/conv2d/kernel/Adam/_55, ConvNet/conv2d/kernel/Adam_1/_57, ConvNet/conv2d_1/bias/_59, ConvNet/conv2d_1/bias/Adam/_61, ConvNet/conv2d_1/bias/Adam_1/_63, ConvNet/conv2d_1/kernel/_65, ConvNet/conv2d_1/kernel/Adam/_67, ConvNet/conv2d_1/kernel/Adam_1/_69, ConvNet/dense/bias/_71, ConvNet/dense/bias/Adam/_73, ConvNet/dense/bias/Adam_1/_75, ConvNet/dense/kernel/_77, ConvNet/dense/kernel/Adam/_79, ConvNet/dense/kernel/Adam_1/_81, ConvNet/dense_1/bias/_83, ConvNet/dense_1/bias/Adam/_85, ConvNet/dense_1/bias/Adam_1/_87, ConvNet/dense_1/kernel/_89, ConvNet/dense_1/kernel/Adam/_91, ConvNet/dense_1/kernel/Adam_1/_93, beta1_power/_95, beta2_power/_97)]]",
      "\nDuring handling of the above exception, another exception occurred:\n",
      "\u001b[0;31mNotFoundError\u001b[0m                             Traceback (most recent call last)",
      "\u001b[0;32mC:\\Users\\StrikeWade\\Anaconda3\\lib\\site-packages\\tensorflow\\python\\training\\saver.py\u001b[0m in \u001b[0;36msave\u001b[0;34m(self, sess, save_path, global_step, latest_filename, meta_graph_suffix, write_meta_graph, write_state)\u001b[0m\n\u001b[1;32m   1592\u001b[0m               \u001b[0mself\u001b[0m\u001b[1;33m.\u001b[0m\u001b[0msaver_def\u001b[0m\u001b[1;33m.\u001b[0m\u001b[0msave_tensor_name\u001b[0m\u001b[1;33m,\u001b[0m\u001b[1;33m\u001b[0m\u001b[0m\n\u001b[0;32m-> 1593\u001b[0;31m               {self.saver_def.filename_tensor_name: checkpoint_file})\n\u001b[0m\u001b[1;32m   1594\u001b[0m         \u001b[1;32melse\u001b[0m\u001b[1;33m:\u001b[0m\u001b[1;33m\u001b[0m\u001b[0m\n",
      "\u001b[0;32mC:\\Users\\StrikeWade\\Anaconda3\\lib\\site-packages\\tensorflow\\python\\client\\session.py\u001b[0m in \u001b[0;36mrun\u001b[0;34m(self, fetches, feed_dict, options, run_metadata)\u001b[0m\n\u001b[1;32m    894\u001b[0m       result = self._run(None, fetches, feed_dict, options_ptr,\n\u001b[0;32m--> 895\u001b[0;31m                          run_metadata_ptr)\n\u001b[0m\u001b[1;32m    896\u001b[0m       \u001b[1;32mif\u001b[0m \u001b[0mrun_metadata\u001b[0m\u001b[1;33m:\u001b[0m\u001b[1;33m\u001b[0m\u001b[0m\n",
      "\u001b[0;32mC:\\Users\\StrikeWade\\Anaconda3\\lib\\site-packages\\tensorflow\\python\\client\\session.py\u001b[0m in \u001b[0;36m_run\u001b[0;34m(self, handle, fetches, feed_dict, options, run_metadata)\u001b[0m\n\u001b[1;32m   1127\u001b[0m       results = self._do_run(handle, final_targets, final_fetches,\n\u001b[0;32m-> 1128\u001b[0;31m                              feed_dict_tensor, options, run_metadata)\n\u001b[0m\u001b[1;32m   1129\u001b[0m     \u001b[1;32melse\u001b[0m\u001b[1;33m:\u001b[0m\u001b[1;33m\u001b[0m\u001b[0m\n",
      "\u001b[0;32mC:\\Users\\StrikeWade\\Anaconda3\\lib\\site-packages\\tensorflow\\python\\client\\session.py\u001b[0m in \u001b[0;36m_do_run\u001b[0;34m(self, handle, target_list, fetch_list, feed_dict, options, run_metadata)\u001b[0m\n\u001b[1;32m   1343\u001b[0m       return self._do_call(_run_fn, self._session, feeds, fetches, targets,\n\u001b[0;32m-> 1344\u001b[0;31m                            options, run_metadata)\n\u001b[0m\u001b[1;32m   1345\u001b[0m     \u001b[1;32melse\u001b[0m\u001b[1;33m:\u001b[0m\u001b[1;33m\u001b[0m\u001b[0m\n",
      "\u001b[0;32mC:\\Users\\StrikeWade\\Anaconda3\\lib\\site-packages\\tensorflow\\python\\client\\session.py\u001b[0m in \u001b[0;36m_do_call\u001b[0;34m(self, fn, *args)\u001b[0m\n\u001b[1;32m   1362\u001b[0m           \u001b[1;32mpass\u001b[0m\u001b[1;33m\u001b[0m\u001b[0m\n\u001b[0;32m-> 1363\u001b[0;31m       \u001b[1;32mraise\u001b[0m \u001b[0mtype\u001b[0m\u001b[1;33m(\u001b[0m\u001b[0me\u001b[0m\u001b[1;33m)\u001b[0m\u001b[1;33m(\u001b[0m\u001b[0mnode_def\u001b[0m\u001b[1;33m,\u001b[0m \u001b[0mop\u001b[0m\u001b[1;33m,\u001b[0m \u001b[0mmessage\u001b[0m\u001b[1;33m)\u001b[0m\u001b[1;33m\u001b[0m\u001b[0m\n\u001b[0m\u001b[1;32m   1364\u001b[0m \u001b[1;33m\u001b[0m\u001b[0m\n",
      "\u001b[0;31mNotFoundError\u001b[0m: Failed to create a directory: ; No such file or directory\n\t [[Node: save/SaveV2 = SaveV2[dtypes=[DT_FLOAT, DT_FLOAT, DT_FLOAT, DT_FLOAT, DT_FLOAT, DT_FLOAT, DT_FLOAT, DT_FLOAT, DT_FLOAT, DT_FLOAT, DT_FLOAT, DT_FLOAT, DT_FLOAT, DT_FLOAT, DT_FLOAT, DT_FLOAT, DT_FLOAT, DT_FLOAT, DT_FLOAT, DT_FLOAT, DT_FLOAT, DT_FLOAT, DT_FLOAT, DT_FLOAT, DT_FLOAT, DT_FLOAT], _device=\"/job:localhost/replica:0/task:0/device:CPU:0\"](_arg_save/Const_0_0, save/SaveV2/tensor_names, save/SaveV2/shape_and_slices, ConvNet/conv2d/bias/_47, ConvNet/conv2d/bias/Adam/_49, ConvNet/conv2d/bias/Adam_1/_51, ConvNet/conv2d/kernel/_53, ConvNet/conv2d/kernel/Adam/_55, ConvNet/conv2d/kernel/Adam_1/_57, ConvNet/conv2d_1/bias/_59, ConvNet/conv2d_1/bias/Adam/_61, ConvNet/conv2d_1/bias/Adam_1/_63, ConvNet/conv2d_1/kernel/_65, ConvNet/conv2d_1/kernel/Adam/_67, ConvNet/conv2d_1/kernel/Adam_1/_69, ConvNet/dense/bias/_71, ConvNet/dense/bias/Adam/_73, ConvNet/dense/bias/Adam_1/_75, ConvNet/dense/kernel/_77, ConvNet/dense/kernel/Adam/_79, ConvNet/dense/kernel/Adam_1/_81, ConvNet/dense_1/bias/_83, ConvNet/dense_1/bias/Adam/_85, ConvNet/dense_1/bias/Adam_1/_87, ConvNet/dense_1/kernel/_89, ConvNet/dense_1/kernel/Adam/_91, ConvNet/dense_1/kernel/Adam_1/_93, beta1_power/_95, beta2_power/_97)]]\n\nCaused by op 'save/SaveV2', defined at:\n  File \"C:\\Users\\StrikeWade\\Anaconda3\\lib\\runpy.py\", line 184, in _run_module_as_main\n    \"__main__\", mod_spec)\n  File \"C:\\Users\\StrikeWade\\Anaconda3\\lib\\runpy.py\", line 85, in _run_code\n    exec(code, run_globals)\n  File \"C:\\Users\\StrikeWade\\Anaconda3\\lib\\site-packages\\ipykernel\\__main__.py\", line 3, in <module>\n    app.launch_new_instance()\n  File \"C:\\Users\\StrikeWade\\Anaconda3\\lib\\site-packages\\traitlets\\config\\application.py\", line 653, in launch_instance\n    app.start()\n  File \"C:\\Users\\StrikeWade\\Anaconda3\\lib\\site-packages\\ipykernel\\kernelapp.py\", line 474, in start\n    ioloop.IOLoop.instance().start()\n  File \"C:\\Users\\StrikeWade\\Anaconda3\\lib\\site-packages\\zmq\\eventloop\\ioloop.py\", line 162, in start\n    super(ZMQIOLoop, self).start()\n  File \"C:\\Users\\StrikeWade\\Anaconda3\\lib\\site-packages\\tornado\\ioloop.py\", line 887, in start\n    handler_func(fd_obj, events)\n  File \"C:\\Users\\StrikeWade\\Anaconda3\\lib\\site-packages\\tornado\\stack_context.py\", line 275, in null_wrapper\n    return fn(*args, **kwargs)\n  File \"C:\\Users\\StrikeWade\\Anaconda3\\lib\\site-packages\\zmq\\eventloop\\zmqstream.py\", line 440, in _handle_events\n    self._handle_recv()\n  File \"C:\\Users\\StrikeWade\\Anaconda3\\lib\\site-packages\\zmq\\eventloop\\zmqstream.py\", line 472, in _handle_recv\n    self._run_callback(callback, msg)\n  File \"C:\\Users\\StrikeWade\\Anaconda3\\lib\\site-packages\\zmq\\eventloop\\zmqstream.py\", line 414, in _run_callback\n    callback(*args, **kwargs)\n  File \"C:\\Users\\StrikeWade\\Anaconda3\\lib\\site-packages\\tornado\\stack_context.py\", line 275, in null_wrapper\n    return fn(*args, **kwargs)\n  File \"C:\\Users\\StrikeWade\\Anaconda3\\lib\\site-packages\\ipykernel\\kernelbase.py\", line 276, in dispatcher\n    return self.dispatch_shell(stream, msg)\n  File \"C:\\Users\\StrikeWade\\Anaconda3\\lib\\site-packages\\ipykernel\\kernelbase.py\", line 228, in dispatch_shell\n    handler(stream, idents, msg)\n  File \"C:\\Users\\StrikeWade\\Anaconda3\\lib\\site-packages\\ipykernel\\kernelbase.py\", line 390, in execute_request\n    user_expressions, allow_stdin)\n  File \"C:\\Users\\StrikeWade\\Anaconda3\\lib\\site-packages\\ipykernel\\ipkernel.py\", line 196, in do_execute\n    res = shell.run_cell(code, store_history=store_history, silent=silent)\n  File \"C:\\Users\\StrikeWade\\Anaconda3\\lib\\site-packages\\ipykernel\\zmqshell.py\", line 501, in run_cell\n    return super(ZMQInteractiveShell, self).run_cell(*args, **kwargs)\n  File \"C:\\Users\\StrikeWade\\Anaconda3\\lib\\site-packages\\IPython\\core\\interactiveshell.py\", line 2717, in run_cell\n    interactivity=interactivity, compiler=compiler, result=result)\n  File \"C:\\Users\\StrikeWade\\Anaconda3\\lib\\site-packages\\IPython\\core\\interactiveshell.py\", line 2821, in run_ast_nodes\n    if self.run_code(code, result):\n  File \"C:\\Users\\StrikeWade\\Anaconda3\\lib\\site-packages\\IPython\\core\\interactiveshell.py\", line 2881, in run_code\n    exec(code_obj, self.user_global_ns, self.user_ns)\n  File \"<ipython-input-7-725cfaa4e313>\", line 27, in <module>\n    saver = tf.train.Saver()\n  File \"C:\\Users\\StrikeWade\\Anaconda3\\lib\\site-packages\\tensorflow\\python\\training\\saver.py\", line 1239, in __init__\n    self.build()\n  File \"C:\\Users\\StrikeWade\\Anaconda3\\lib\\site-packages\\tensorflow\\python\\training\\saver.py\", line 1248, in build\n    self._build(self._filename, build_save=True, build_restore=True)\n  File \"C:\\Users\\StrikeWade\\Anaconda3\\lib\\site-packages\\tensorflow\\python\\training\\saver.py\", line 1284, in _build\n    build_save=build_save, build_restore=build_restore)\n  File \"C:\\Users\\StrikeWade\\Anaconda3\\lib\\site-packages\\tensorflow\\python\\training\\saver.py\", line 762, in _build_internal\n    save_tensor = self._AddSaveOps(filename_tensor, saveables)\n  File \"C:\\Users\\StrikeWade\\Anaconda3\\lib\\site-packages\\tensorflow\\python\\training\\saver.py\", line 297, in _AddSaveOps\n    save = self.save_op(filename_tensor, saveables)\n  File \"C:\\Users\\StrikeWade\\Anaconda3\\lib\\site-packages\\tensorflow\\python\\training\\saver.py\", line 240, in save_op\n    tensors)\n  File \"C:\\Users\\StrikeWade\\Anaconda3\\lib\\site-packages\\tensorflow\\python\\ops\\gen_io_ops.py\", line 1286, in save_v2\n    shape_and_slices=shape_and_slices, tensors=tensors, name=name)\n  File \"C:\\Users\\StrikeWade\\Anaconda3\\lib\\site-packages\\tensorflow\\python\\framework\\op_def_library.py\", line 787, in _apply_op_helper\n    op_def=op_def)\n  File \"C:\\Users\\StrikeWade\\Anaconda3\\lib\\site-packages\\tensorflow\\python\\framework\\ops.py\", line 3160, in create_op\n    op_def=op_def)\n  File \"C:\\Users\\StrikeWade\\Anaconda3\\lib\\site-packages\\tensorflow\\python\\framework\\ops.py\", line 1625, in __init__\n    self._traceback = self._graph._extract_stack()  # pylint: disable=protected-access\n\nNotFoundError (see above for traceback): Failed to create a directory: ; No such file or directory\n\t [[Node: save/SaveV2 = SaveV2[dtypes=[DT_FLOAT, DT_FLOAT, DT_FLOAT, DT_FLOAT, DT_FLOAT, DT_FLOAT, DT_FLOAT, DT_FLOAT, DT_FLOAT, DT_FLOAT, DT_FLOAT, DT_FLOAT, DT_FLOAT, DT_FLOAT, DT_FLOAT, DT_FLOAT, DT_FLOAT, DT_FLOAT, DT_FLOAT, DT_FLOAT, DT_FLOAT, DT_FLOAT, DT_FLOAT, DT_FLOAT, DT_FLOAT, DT_FLOAT], _device=\"/job:localhost/replica:0/task:0/device:CPU:0\"](_arg_save/Const_0_0, save/SaveV2/tensor_names, save/SaveV2/shape_and_slices, ConvNet/conv2d/bias/_47, ConvNet/conv2d/bias/Adam/_49, ConvNet/conv2d/bias/Adam_1/_51, ConvNet/conv2d/kernel/_53, ConvNet/conv2d/kernel/Adam/_55, ConvNet/conv2d/kernel/Adam_1/_57, ConvNet/conv2d_1/bias/_59, ConvNet/conv2d_1/bias/Adam/_61, ConvNet/conv2d_1/bias/Adam_1/_63, ConvNet/conv2d_1/kernel/_65, ConvNet/conv2d_1/kernel/Adam/_67, ConvNet/conv2d_1/kernel/Adam_1/_69, ConvNet/dense/bias/_71, ConvNet/dense/bias/Adam/_73, ConvNet/dense/bias/Adam_1/_75, ConvNet/dense/kernel/_77, ConvNet/dense/kernel/Adam/_79, ConvNet/dense/kernel/Adam_1/_81, ConvNet/dense_1/bias/_83, ConvNet/dense_1/bias/Adam/_85, ConvNet/dense_1/bias/Adam_1/_87, ConvNet/dense_1/kernel/_89, ConvNet/dense_1/kernel/Adam/_91, ConvNet/dense_1/kernel/Adam_1/_93, beta1_power/_95, beta2_power/_97)]]\n",
      "\nDuring handling of the above exception, another exception occurred:\n",
      "\u001b[0;31mValueError\u001b[0m                                Traceback (most recent call last)",
      "\u001b[0;32m<ipython-input-8-cae442dc4435>\u001b[0m in \u001b[0;36m<module>\u001b[0;34m()\u001b[0m\n\u001b[1;32m     22\u001b[0m \u001b[1;33m\u001b[0m\u001b[0m\n\u001b[1;32m     23\u001b[0m     \u001b[1;31m#Save model\u001b[0m\u001b[1;33m\u001b[0m\u001b[1;33m\u001b[0m\u001b[0m\n\u001b[0;32m---> 24\u001b[0;31m     \u001b[0msaver\u001b[0m\u001b[1;33m.\u001b[0m\u001b[0msave\u001b[0m\u001b[1;33m(\u001b[0m\u001b[0msess\u001b[0m\u001b[1;33m,\u001b[0m \u001b[1;34m'my_tf_model'\u001b[0m\u001b[1;33m)\u001b[0m\u001b[1;33m\u001b[0m\u001b[0m\n\u001b[0m",
      "\u001b[0;32mC:\\Users\\StrikeWade\\Anaconda3\\lib\\site-packages\\tensorflow\\python\\training\\saver.py\u001b[0m in \u001b[0;36msave\u001b[0;34m(self, sess, save_path, global_step, latest_filename, meta_graph_suffix, write_meta_graph, write_state)\u001b[0m\n\u001b[1;32m   1612\u001b[0m               \"Parent directory of {} doesn't exist, can't save.\".format(\n\u001b[1;32m   1613\u001b[0m                   save_path))\n\u001b[0;32m-> 1614\u001b[0;31m         \u001b[1;32mraise\u001b[0m \u001b[0mexc\u001b[0m\u001b[1;33m\u001b[0m\u001b[0m\n\u001b[0m\u001b[1;32m   1615\u001b[0m \u001b[1;33m\u001b[0m\u001b[0m\n\u001b[1;32m   1616\u001b[0m     \u001b[1;32mif\u001b[0m \u001b[0mwrite_meta_graph\u001b[0m\u001b[1;33m:\u001b[0m\u001b[1;33m\u001b[0m\u001b[0m\n",
      "\u001b[0;31mValueError\u001b[0m: Parent directory of my_tf_model doesn't exist, can't save."
     ]
    }
   ],
   "source": [
    "#Start training\n",
    "with tf.Session() as sess:\n",
    "    sess.run(init)\n",
    "    \n",
    "    #Start the data queue\n",
    "    tf.train.start_queue_runners()\n",
    "    \n",
    "    #Train cycle\n",
    "    for step in range(1, num_steps+1):\n",
    "#         batch_x = tf.train.batch(tensors=X, batch_size=batch_size)\n",
    "#         batch_y = tf.train.batch(tensors=Y, batch_size=batch_size)\n",
    "        if step % display_step == 0:\n",
    "            #Run the optimization and calculate batch loss and accuracy\n",
    "            _, loss, acc = sess.run([train_op, loss_op, accuracy])\n",
    "            \n",
    "            print('Step %d, Minibatch Loss= %.4f, Training Accuracy= %.3f' % (step, loss, acc))\n",
    "        else:\n",
    "            #Only run the optimization op\n",
    "            sess.run(train_op)\n",
    "            \n",
    "    print('Training Completed!!!')\n",
    "    \n",
    "    #Save model\n",
    "    saver.save(sess, 'my_tf_model')"
   ]
  },
  {
   "cell_type": "code",
   "execution_count": null,
   "metadata": {
    "collapsed": true
   },
   "outputs": [],
   "source": []
  }
 ],
 "metadata": {
  "anaconda-cloud": {},
  "kernelspec": {
   "display_name": "Python [conda root]",
   "language": "python",
   "name": "conda-root-py"
  },
  "language_info": {
   "codemirror_mode": {
    "name": "ipython",
    "version": 3
   },
   "file_extension": ".py",
   "mimetype": "text/x-python",
   "name": "python",
   "nbconvert_exporter": "python",
   "pygments_lexer": "ipython3",
   "version": "3.5.2"
  }
 },
 "nbformat": 4,
 "nbformat_minor": 1
}
