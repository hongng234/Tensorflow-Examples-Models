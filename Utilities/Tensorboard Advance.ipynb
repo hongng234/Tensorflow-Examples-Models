{
 "cells": [
  {
   "cell_type": "code",
   "execution_count": 1,
   "metadata": {
    "collapsed": false
   },
   "outputs": [
    {
     "name": "stderr",
     "output_type": "stream",
     "text": [
      "C:\\Users\\StrikeWade\\Anaconda3\\lib\\site-packages\\h5py\\__init__.py:36: FutureWarning: Conversion of the second argument of issubdtype from `float` to `np.floating` is deprecated. In future, it will be treated as `np.float64 == np.dtype(float).type`.\n",
      "  from ._conv import register_converters as _register_converters\n"
     ]
    },
    {
     "name": "stdout",
     "output_type": "stream",
     "text": [
      "Extracting ../mnist\\train-images-idx3-ubyte.gz\n",
      "Extracting ../mnist\\train-labels-idx1-ubyte.gz\n",
      "Extracting ../mnist\\t10k-images-idx3-ubyte.gz\n",
      "Extracting ../mnist\\t10k-labels-idx1-ubyte.gz\n"
     ]
    },
    {
     "name": "stderr",
     "output_type": "stream",
     "text": [
      "Using TensorFlow backend.\n"
     ]
    }
   ],
   "source": [
    "from __future__ import division, print_function, absolute_import\n",
    "\n",
    "import tensorflow as tf\n",
    "import numpy as np\n",
    "import matplotlib.pyplot as plt\n",
    "from scipy.stats import norm\n",
    "\n",
    "# Import MNIST data\n",
    "\n",
    "from tensorflow.examples.tutorials.mnist import input_data\n",
    "mnist = input_data.read_data_sets('../mnist', one_hot=True)\n",
    "\n",
    "from keras import backend as K\n",
    "#Clear TF memory\n",
    "cfg = K.tf.ConfigProto()\n",
    "cfg.gpu_options.allow_growth = True\n",
    "K.set_session(K.tf.Session(config=cfg))"
   ]
  },
  {
   "cell_type": "code",
   "execution_count": 2,
   "metadata": {
    "collapsed": true
   },
   "outputs": [],
   "source": [
    "#Parameters\n",
    "learning_rate = 0.01\n",
    "training_epochs = 25\n",
    "batch_size = 100\n",
    "display_step = 5\n",
    "logs_path = 'log/tensorboard_logs/'\n",
    "\n",
    "#Network Parameters\n",
    "n_hidden_1 = 256 #1st layer number of features\n",
    "n_hidden_2 = 256 #2nd layer number of features\n",
    "n_input = 784\n",
    "n_classes = 10\n",
    "\n",
    "#TF graph input\n",
    "x = tf.placeholder(dtype=tf.float32, shape=[None, n_input], name='InputData')\n",
    "y = tf.placeholder(dtype=tf.float32, shape=[None, n_classes], name='LabelData')\n",
    "\n",
    "#Weights and Biases\n",
    "weights = {\n",
    "    'w1': tf.Variable(tf.random_normal(shape=[n_input, n_hidden_1]), name='W1'),\n",
    "    'w2': tf.Variable(tf.random_normal(shape=[n_hidden_1, n_hidden_2]), name='W2'),\n",
    "    'out': tf.Variable(tf.random_normal(shape=[n_hidden_2, n_classes]), name='W_out')\n",
    "}\n",
    "\n",
    "biases = {\n",
    "    'b1': tf.Variable(tf.random_normal(shape=[n_hidden_1]), name='b1'),\n",
    "    'b2': tf.Variable(tf.random_normal(shape=[n_hidden_2]), name='b2'),\n",
    "    'out': tf.Variable(tf.random_normal(shape=[n_classes]), name='b_out')\n",
    "}"
   ]
  },
  {
   "cell_type": "code",
   "execution_count": 3,
   "metadata": {
    "collapsed": false
   },
   "outputs": [],
   "source": [
    "def multilayer_perceptron(x, weights, biases):\n",
    "    #Hidden layer 1 with relu activation\n",
    "    layer_1 = tf.add(tf.matmul(x, weights['w1']), biases['b1'])\n",
    "    layer_1 = tf.nn.relu(layer_1)\n",
    "    #Create a summary to visualize the 1st layer relu activation\n",
    "    tf.summary.histogram('relu1', layer_1)\n",
    "    \n",
    "    #Hidden layer 2 with relu activation\n",
    "    layer_2 = tf.add(tf.matmul(layer_1, weights['w2']), biases['b2'])\n",
    "    layer_2 = tf.nn.relu(layer_2)\n",
    "    #Create a summary to visualize the 2nd layer relu activation\n",
    "    tf.summary.histogram('relu2', layer_2)\n",
    "    \n",
    "    #Output layer\n",
    "    out_layer = tf.add(tf.matmul(layer_2, weights['out']), biases['out'])\n",
    "    return out_layer"
   ]
  },
  {
   "cell_type": "code",
   "execution_count": 4,
   "metadata": {
    "collapsed": false
   },
   "outputs": [
    {
     "name": "stdout",
     "output_type": "stream",
     "text": [
      "WARNING:tensorflow:From <ipython-input-4-deecba56a5de>:9: softmax_cross_entropy_with_logits (from tensorflow.python.ops.nn_ops) is deprecated and will be removed in a future version.\n",
      "Instructions for updating:\n",
      "\n",
      "Future major versions of TensorFlow will allow gradients to flow\n",
      "into the labels input on backprop by default.\n",
      "\n",
      "See tf.nn.softmax_cross_entropy_with_logits_v2.\n",
      "\n"
     ]
    }
   ],
   "source": [
    "#Encapsulating all the ops into scopes, making tensorboard's graph\n",
    "#visualization more convenient\n",
    "with tf.name_scope('Model'):\n",
    "    #Build model\n",
    "    y_pred = multilayer_perceptron(x, weights, biases)\n",
    "    \n",
    "with tf.name_scope('loss'):\n",
    "    #Softmax Cross entropy(loss function)\n",
    "    loss = tf.reduce_mean(tf.nn.softmax_cross_entropy_with_logits(logits=y_pred, labels=y))\n",
    "    \n",
    "with tf.name_scope('SGD'):\n",
    "    #Gradient descent\n",
    "    optimizer = tf.train.GradientDescentOptimizer(learning_rate=learning_rate)\n",
    "    #op to calculate every variable gradient\n",
    "    grads = tf.gradients(loss, tf.trainable_variables())\n",
    "    grads = list(zip(grads, tf.trainable_variables()))\n",
    "    #Op to update all variables according to their gradient\n",
    "    apply_grads = optimizer.apply_gradients(grads_and_vars=grads)\n",
    "    \n",
    "with tf.name_scope('accuracy'):\n",
    "    #Accuracy\n",
    "    acc = tf.equal(tf.argmax(y_pred, 1), tf.argmax(y, 1))\n",
    "    acc = tf.reduce_mean(tf.cast(acc, dtype=tf.float32))"
   ]
  },
  {
   "cell_type": "code",
   "execution_count": 5,
   "metadata": {
    "collapsed": false
   },
   "outputs": [
    {
     "name": "stdout",
     "output_type": "stream",
     "text": [
      "INFO:tensorflow:Summary name W1:0 is illegal; using W1_0 instead.\n",
      "INFO:tensorflow:Summary name W2:0 is illegal; using W2_0 instead.\n",
      "INFO:tensorflow:Summary name W_out:0 is illegal; using W_out_0 instead.\n",
      "INFO:tensorflow:Summary name b1:0 is illegal; using b1_0 instead.\n",
      "INFO:tensorflow:Summary name b2:0 is illegal; using b2_0 instead.\n",
      "INFO:tensorflow:Summary name b_out:0 is illegal; using b_out_0 instead.\n",
      "INFO:tensorflow:Summary name W1:0/gradient is illegal; using W1_0/gradient instead.\n",
      "INFO:tensorflow:Summary name W2:0/gradient is illegal; using W2_0/gradient instead.\n",
      "INFO:tensorflow:Summary name W_out:0/gradient is illegal; using W_out_0/gradient instead.\n",
      "INFO:tensorflow:Summary name b1:0/gradient is illegal; using b1_0/gradient instead.\n",
      "INFO:tensorflow:Summary name b2:0/gradient is illegal; using b2_0/gradient instead.\n",
      "INFO:tensorflow:Summary name b_out:0/gradient is illegal; using b_out_0/gradient instead.\n"
     ]
    }
   ],
   "source": [
    "#Init global variables\n",
    "init = tf.global_variables_initializer()\n",
    "\n",
    "#Create a summary to monitor loss tensor\n",
    "tf.summary.scalar('loss', loss)\n",
    "#Create a summary to monitor accuracy tensor\n",
    "tf.summary.scalar('accuracy', acc)\n",
    "#Create summaries to visalize weights\n",
    "for var in tf.trainable_variables():\n",
    "    tf.summary.histogram(var.name, var)\n",
    "#Summarize all gradients\n",
    "for grad, var in grads:\n",
    "    tf.summary.histogram(var.name + '/gradient', grad)\n",
    "\n",
    "#Merge all summaries into a single op\n",
    "merged_summary_op = tf.summary.merge_all()"
   ]
  },
  {
   "cell_type": "code",
   "execution_count": 6,
   "metadata": {
    "collapsed": false
   },
   "outputs": [
    {
     "name": "stdout",
     "output_type": "stream",
     "text": [
      "Epoch: 005, loss= 0.0021\n",
      "Epoch: 010, loss= 0.0011\n",
      "Epoch: 015, loss= 0.0015\n",
      "Epoch: 020, loss= 0.0000\n",
      "Epoch: 025, loss= 0.0001\n",
      "Training completed!!!\n",
      "Accuracy:  0.9253\n",
      "Run the command line: \n",
      " --> tensorboard --logdir=log/tensorboard_logs/\n"
     ]
    }
   ],
   "source": [
    "#Start training\n",
    "with tf.Session() as sess:\n",
    "    #Run the init\n",
    "    sess.run(init)\n",
    "    \n",
    "    #Op to write logs to tensorboard\n",
    "    summary_writer = tf.summary.FileWriter(logdir=logs_path, graph=tf.get_default_graph())\n",
    "    \n",
    "    #Training\n",
    "    for epoch in range(training_epochs):\n",
    "        avg_loss = 0\n",
    "        total_batch = int(mnist.train.num_examples/batch_size)\n",
    "        \n",
    "        #Loop over all batches\n",
    "        for i in range(total_batch):\n",
    "            batch_x, batch_y = mnist.train.next_batch(batch_size)\n",
    "            #Run optimization, loss op, and summary nodes\n",
    "            _, l, summary = sess.run([apply_grads, loss, merged_summary_op], feed_dict={x: batch_x, y: batch_y})\n",
    "            \n",
    "            #Write logs at every iteration\n",
    "            summary_writer.add_summary(summary=summary, global_step=epoch*total_batch+i)\n",
    "            \n",
    "            #Compute avg loss\n",
    "            avg_loss = l / total_batch\n",
    "            \n",
    "        #display logs per epoch step\n",
    "        if (epoch+1) % display_step == 0:\n",
    "            print('Epoch: %03d, loss= %.4f' % (epoch+1, avg_loss))\n",
    "            \n",
    "    print('Training completed!!!')\n",
    "    \n",
    "    #Test model\n",
    "    #Calculate accuracy\n",
    "    print('Accuracy: ', acc.eval(feed_dict={x: mnist.test.images, y: mnist.test.labels}))\n",
    "    \n",
    "    print('Run the command line: \\n --> tensorboard --logdir=log/tensorboard_logs/')"
   ]
  },
  {
   "cell_type": "code",
   "execution_count": null,
   "metadata": {
    "collapsed": true
   },
   "outputs": [],
   "source": []
  }
 ],
 "metadata": {
  "anaconda-cloud": {},
  "kernelspec": {
   "display_name": "Python [conda root]",
   "language": "python",
   "name": "conda-root-py"
  },
  "language_info": {
   "codemirror_mode": {
    "name": "ipython",
    "version": 3
   },
   "file_extension": ".py",
   "mimetype": "text/x-python",
   "name": "python",
   "nbconvert_exporter": "python",
   "pygments_lexer": "ipython3",
   "version": "3.5.2"
  }
 },
 "nbformat": 4,
 "nbformat_minor": 1
}
