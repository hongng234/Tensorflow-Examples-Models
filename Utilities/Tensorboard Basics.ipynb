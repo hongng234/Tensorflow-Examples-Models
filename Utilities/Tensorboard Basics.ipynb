{
 "cells": [
  {
   "cell_type": "code",
   "execution_count": 1,
   "metadata": {
    "collapsed": false
   },
   "outputs": [
    {
     "name": "stderr",
     "output_type": "stream",
     "text": [
      "C:\\Users\\StrikeWade\\Anaconda3\\lib\\site-packages\\h5py\\__init__.py:36: FutureWarning: Conversion of the second argument of issubdtype from `float` to `np.floating` is deprecated. In future, it will be treated as `np.float64 == np.dtype(float).type`.\n",
      "  from ._conv import register_converters as _register_converters\n"
     ]
    },
    {
     "name": "stdout",
     "output_type": "stream",
     "text": [
      "Extracting ../mnist\\train-images-idx3-ubyte.gz\n",
      "Extracting ../mnist\\train-labels-idx1-ubyte.gz\n",
      "Extracting ../mnist\\t10k-images-idx3-ubyte.gz\n",
      "Extracting ../mnist\\t10k-labels-idx1-ubyte.gz\n"
     ]
    },
    {
     "name": "stderr",
     "output_type": "stream",
     "text": [
      "Using TensorFlow backend.\n"
     ]
    }
   ],
   "source": [
    "#\n",
    "#\n",
    "\n",
    "from __future__ import division, print_function, absolute_import\n",
    "\n",
    "import tensorflow as tf\n",
    "import numpy as np\n",
    "import matplotlib.pyplot as plt\n",
    "from scipy.stats import norm\n",
    "\n",
    "# Import MNIST data\n",
    "\n",
    "from tensorflow.examples.tutorials.mnist import input_data\n",
    "mnist = input_data.read_data_sets('../mnist', one_hot=True)\n",
    "\n",
    "from keras import backend as K\n",
    "#Clear TF memory\n",
    "cfg = K.tf.ConfigProto()\n",
    "cfg.gpu_options.allow_growth = True\n",
    "K.set_session(K.tf.Session(config=cfg))"
   ]
  },
  {
   "cell_type": "code",
   "execution_count": 2,
   "metadata": {
    "collapsed": true
   },
   "outputs": [],
   "source": [
    "#Parameters\n",
    "learning_rate = 0.01\n",
    "training_epochs = 25\n",
    "batch_size = 100\n",
    "display_epoch = 5\n",
    "logs_path = 'log/tensorboard_logs/'\n",
    "\n",
    "#tf Graph input\n",
    "x = tf.placeholder(dtype=tf.float32, shape=[None, 784], name='InputData')\n",
    "y = tf.placeholder(dtype=tf.float32, shape=[None, 10], name='LabelData')\n",
    "\n",
    "#Set model weights\n",
    "W = tf.Variable(tf.zeros([784, 10]), name='Weights')\n",
    "b = tf.Variable(tf.zeros([10]), name='Bias')"
   ]
  },
  {
   "cell_type": "code",
   "execution_count": 4,
   "metadata": {
    "collapsed": false
   },
   "outputs": [],
   "source": [
    "#Construct model and encapsulating all ops into scopes,\n",
    "#Making tensorboard's graph visualization more convenient\n",
    "\n",
    "with tf.name_scope('Model'):\n",
    "    #Model\n",
    "    y_pred = tf.nn.softmax(tf.matmul(x, W) + b)\n",
    "with tf.name_scope('Loss'):\n",
    "    #Minimize error using cross entropy\n",
    "    loss = tf.reduce_mean(-tf.reduce_sum(y*tf.log(y_pred), reduction_indices=1))\n",
    "with tf.name_scope('SGD'):\n",
    "    #Gradient Descent\n",
    "    optimizer = tf.train.GradientDescentOptimizer(learning_rate=learning_rate).minimize(loss)\n",
    "with tf.name_scope('Accuracy'):\n",
    "    #Accuracy\n",
    "    acc = tf.equal(tf.argmax(y_pred,1), tf.argmax(y,1))\n",
    "    acc = tf.reduce_mean(tf.cast(acc, dtype=tf.float32))\n",
    "    \n",
    "#Init global variables\n",
    "init = tf.global_variables_initializer()\n",
    "\n",
    "#Create a summary to monitor loss tensor\n",
    "tf.summary.scalar('loss', loss)\n",
    "#Create a summary to monitor accuracy tensor\n",
    "tf.summary.scalar('accuracy', acc)\n",
    "#Merge all summaries into a single op\n",
    "merged_summary_op = tf.summary.merge_all()"
   ]
  },
  {
   "cell_type": "code",
   "execution_count": 6,
   "metadata": {
    "collapsed": false
   },
   "outputs": [
    {
     "name": "stdout",
     "output_type": "stream",
     "text": [
      "Epoch: 0005, loss= 0.000791848\n",
      "Epoch: 0010, loss= 0.000685182\n",
      "Epoch: 0015, loss= 0.000466076\n",
      "Epoch: 0020, loss= 0.000417387\n",
      "Epoch: 0025, loss= 0.000392401\n",
      "Training Completed!!!\n",
      "Accuracy:  0.9134\n",
      "Run the command line to show tensorboard: \n",
      " --> tensorboard -->logdir=log/tensorboard_logs/ \n",
      " Then open http://0.0.0.0:6006/\n"
     ]
    }
   ],
   "source": [
    "#Training\n",
    "with tf.Session() as sess:\n",
    "    sess.run(init)\n",
    "    \n",
    "    #op to write logs to tensorboard\n",
    "    summary_writer = tf.summary.FileWriter(logdir=logs_path, graph=tf.get_default_graph())\n",
    "    \n",
    "    #Training\n",
    "    for epoch in range(training_epochs):\n",
    "        avg_loss = 0\n",
    "        total_batch = int(mnist.train.num_examples/batch_size)\n",
    "        \n",
    "        #Loop over all batches\n",
    "        for i in range(total_batch):\n",
    "            batch_x, batch_y = mnist.train.next_batch(batch_size)\n",
    "            #Run optimization, loss op and summary nodes\n",
    "            _, l, summary = sess.run([optimizer, loss, merged_summary_op], feed_dict={x: batch_x, y: batch_y})\n",
    "            \n",
    "            #Write logs at every iteration\n",
    "            summary_writer.add_summary(summary, epoch*total_batch+i)\n",
    "            \n",
    "            #Compute average loss\n",
    "            avg_loss = l / total_batch\n",
    "            \n",
    "        #Display logs per epoch step\n",
    "        if(epoch+1) % display_epoch == 0:\n",
    "            print('Epoch: %04d, loss= %.9f' % (epoch+1, avg_loss))\n",
    "    \n",
    "    print('Training Completed!!!')\n",
    "    \n",
    "    #Test model\n",
    "    #Calculate Accuracy\n",
    "    print('Accuracy: ', acc.eval(feed_dict={x: mnist.test.images, y: mnist.test.labels}))\n",
    "    \n",
    "    print('Run the command line to show tensorboard: \\n --> tensorboard --logdir=log/tensorboard_logs/ \\n Then open http://0.0.0.0:6006/')"
   ]
  },
  {
   "cell_type": "code",
   "execution_count": null,
   "metadata": {
    "collapsed": true
   },
   "outputs": [],
   "source": []
  }
 ],
 "metadata": {
  "anaconda-cloud": {},
  "kernelspec": {
   "display_name": "Python [conda root]",
   "language": "python",
   "name": "conda-root-py"
  },
  "language_info": {
   "codemirror_mode": {
    "name": "ipython",
    "version": 3
   },
   "file_extension": ".py",
   "mimetype": "text/x-python",
   "name": "python",
   "nbconvert_exporter": "python",
   "pygments_lexer": "ipython3",
   "version": "3.5.2"
  }
 },
 "nbformat": 4,
 "nbformat_minor": 1
}
