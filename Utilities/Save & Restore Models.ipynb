{
 "cells": [
  {
   "cell_type": "code",
   "execution_count": 1,
   "metadata": {
    "collapsed": false
   },
   "outputs": [
    {
     "name": "stderr",
     "output_type": "stream",
     "text": [
      "C:\\Users\\StrikeWade\\Anaconda3\\lib\\site-packages\\h5py\\__init__.py:36: FutureWarning: Conversion of the second argument of issubdtype from `float` to `np.floating` is deprecated. In future, it will be treated as `np.float64 == np.dtype(float).type`.\n",
      "  from ._conv import register_converters as _register_converters\n"
     ]
    },
    {
     "name": "stdout",
     "output_type": "stream",
     "text": [
      "Extracting ../mnist\\train-images-idx3-ubyte.gz\n",
      "Extracting ../mnist\\train-labels-idx1-ubyte.gz\n",
      "Extracting ../mnist\\t10k-images-idx3-ubyte.gz\n",
      "Extracting ../mnist\\t10k-labels-idx1-ubyte.gz\n"
     ]
    },
    {
     "name": "stderr",
     "output_type": "stream",
     "text": [
      "Using TensorFlow backend.\n"
     ]
    }
   ],
   "source": [
    "from __future__ import division, print_function, absolute_import\n",
    "\n",
    "import tensorflow as tf\n",
    "import numpy as np\n",
    "import matplotlib.pyplot as plt\n",
    "from scipy.stats import norm\n",
    "\n",
    "# Import MNIST data\n",
    "\n",
    "from tensorflow.examples.tutorials.mnist import input_data\n",
    "mnist = input_data.read_data_sets('../mnist', one_hot=True)\n",
    "\n",
    "from keras import backend as K\n",
    "#Clear TF memory\n",
    "cfg = K.tf.ConfigProto()\n",
    "cfg.gpu_options.allow_growth = True\n",
    "K.set_session(K.tf.Session(config=cfg))"
   ]
  },
  {
   "cell_type": "code",
   "execution_count": 2,
   "metadata": {
    "collapsed": false
   },
   "outputs": [],
   "source": [
    "#Parameter\n",
    "learning_rate = 0.001\n",
    "batch_size = 128\n",
    "display_step = 20\n",
    "model_path = '../model/model.ckpt'\n",
    "\n",
    "#Network Params\n",
    "n_hidden_1 = 256 #1st layer number of features\n",
    "n_hidden_2 = 256 #2nd layer number of features\n",
    "n_input = 784 #mnist image shape 28*28\n",
    "n_classes = 10\n",
    "\n",
    "#TF Graph input\n",
    "x = tf.placeholder(dtype=tf.float32, shape=[None, n_input])\n",
    "y = tf.placeholder(dtype=tf.float32, shape=[None, n_classes])\n",
    "\n",
    "#Weights & biases\n",
    "weights = {\n",
    "    'h1': tf.Variable(tf.random_normal(shape=[n_input, n_hidden_1])),\n",
    "    'h2': tf.Variable(tf.random_normal(shape=[n_hidden_1, n_hidden_2])),\n",
    "    'out': tf.Variable(tf.random_normal(shape=[n_hidden_2, n_classes]))\n",
    "}\n",
    "biases = {\n",
    "    'b1': tf.Variable(tf.random_normal(shape=[n_hidden_1])),\n",
    "    'b2': tf.Variable(tf.random_normal(shape=[n_hidden_2])),\n",
    "    'out': tf.Variable(tf.random_normal(shape=[n_classes]))\n",
    "}"
   ]
  },
  {
   "cell_type": "code",
   "execution_count": 3,
   "metadata": {
    "collapsed": true
   },
   "outputs": [],
   "source": [
    "#Create model\n",
    "def multilayer_perceptron(x, weights, biases):\n",
    "    #Hidden layer 1 with relu activation\n",
    "    layer_1 = tf.add(tf.matmul(x, weights['h1']), biases['b1'])\n",
    "    layer_1 = tf.nn.relu(layer_1)\n",
    "    \n",
    "    #Hidden layer 2 with relu activation\n",
    "    layer_2 = tf.add(tf.matmul(layer_1, weights['h2']), biases['b2'])\n",
    "    layer_2 = tf.nn.relu(layer_2)\n",
    "    \n",
    "    #Output layer with linear activation\n",
    "    out_layer = tf.matmul(layer_2, weights['out']) + biases['out']\n",
    "    \n",
    "    return out_layer"
   ]
  },
  {
   "cell_type": "code",
   "execution_count": 4,
   "metadata": {
    "collapsed": false
   },
   "outputs": [
    {
     "name": "stdout",
     "output_type": "stream",
     "text": [
      "WARNING:tensorflow:From <ipython-input-4-939e9746e5ed>:5: softmax_cross_entropy_with_logits (from tensorflow.python.ops.nn_ops) is deprecated and will be removed in a future version.\n",
      "Instructions for updating:\n",
      "\n",
      "Future major versions of TensorFlow will allow gradients to flow\n",
      "into the labels input on backprop by default.\n",
      "\n",
      "See tf.nn.softmax_cross_entropy_with_logits_v2.\n",
      "\n"
     ]
    }
   ],
   "source": [
    "#Construct model\n",
    "y_pred = multilayer_perceptron(x, weights, biases)\n",
    "\n",
    "#Define loss and optimizer\n",
    "loss = tf.reduce_mean(tf.nn.softmax_cross_entropy_with_logits(logits=y_pred, labels=y))\n",
    "optimizer = tf.train.AdamOptimizer(learning_rate=learning_rate).minimize(loss)\n",
    "\n",
    "#Init global variables\n",
    "init = tf.global_variables_initializer()"
   ]
  },
  {
   "cell_type": "code",
   "execution_count": 5,
   "metadata": {
    "collapsed": true
   },
   "outputs": [],
   "source": [
    "#'Saver' op to save and restore all variables\n",
    "saver = tf.train.Saver()"
   ]
  },
  {
   "cell_type": "code",
   "execution_count": 6,
   "metadata": {
    "collapsed": false
   },
   "outputs": [
    {
     "name": "stdout",
     "output_type": "stream",
     "text": [
      "Starting 1st session:...\n",
      "Epoch: 1,     average loss= 0.189256\n",
      "\n",
      "    First Optimization Completed!!!\n",
      "\n",
      "    Accuracy on test set:  0.9005\n",
      "\n",
      "    Model saved in file: ../model/model.ckpt\n"
     ]
    }
   ],
   "source": [
    "#Running 1st Session\n",
    "print('Starting 1st session:...')\n",
    "with tf.Session() as sess:\n",
    "    #Init variable\n",
    "    sess.run(init)\n",
    "    \n",
    "    #Train cycle\n",
    "    for epoch in range(3):\n",
    "        avg_loss = 0\n",
    "        total_batch = int(mnist.train.num_examples / batch_size)\n",
    "        \n",
    "        #loop over all batches\n",
    "        for i in range(total_batch):\n",
    "            batch_x, batch_y = mnist.train.next_batch(batch_size)\n",
    "            \n",
    "            #Run optimization op (backprop) and loss op(to get loss value)\n",
    "            _, l = sess.run([optimizer, loss], feed_dict={x: batch_x, y: batch_y})\n",
    "            \n",
    "            #Compute average loss\n",
    "            avg_loss = l / total_batch\n",
    "        #Display logs per epoch step\n",
    "        if epoch % display_step == 0:\n",
    "            print('Epoch: %d,     average loss= %f' % (epoch+1, avg_loss))\n",
    "            \n",
    "    print('\\n    First Optimization Completed!!!')\n",
    "    \n",
    "    #Test model\n",
    "    correct_pred = tf.equal(tf.argmax(y_pred, 1), tf.argmax(y, 1))\n",
    "    \n",
    "    #Calculate accuracy\n",
    "    accuracy = tf.reduce_mean(tf.cast(correct_pred, dtype=tf.float32))\n",
    "    \n",
    "    print('\\n    Accuracy on test set: ', accuracy.eval({x: mnist.test.images, y: mnist.test.labels}))\n",
    "    \n",
    "    #Save model weights and biases to disk\n",
    "    save_path = saver.save(sess, model_path)\n",
    "    print('\\n    Model saved in file: %s' % save_path)"
   ]
  },
  {
   "cell_type": "code",
   "execution_count": 8,
   "metadata": {
    "collapsed": false
   },
   "outputs": [
    {
     "name": "stdout",
     "output_type": "stream",
     "text": [
      "Starting 2nd session:...\n",
      "INFO:tensorflow:Restoring parameters from ../model/model.ckpt\n",
      "\n",
      "    Model restored in file: ../model/model.ckpt\n",
      "\n",
      "    Epoch: 1,    average loss= 32.125679\n",
      "\n",
      "    Second Optimization Completed!!\n",
      "\n",
      "    Accuracy on test set:  0.9349\n"
     ]
    }
   ],
   "source": [
    "#Retore and ruung a new session\n",
    "print('Starting 2nd session:...')\n",
    "with tf.Session() as sess:\n",
    "    #Init global variables\n",
    "    sess.run(init)\n",
    "    \n",
    "    #Restore model weights and biases from previously saved model\n",
    "    load_path = saver.restore(sess, model_path)\n",
    "    print('\\n    Model restored in file: %s' % save_path)\n",
    "    \n",
    "    #Resume training\n",
    "    for epoch in range(10):\n",
    "        avg_cost = 0\n",
    "        total_batch = int(mnist.train.num_examples / batch_size) \n",
    "        \n",
    "        #Loop over all batches\n",
    "        for i in range(total_batch):\n",
    "            batch_x, batch_y = mnist.train.next_batch(batch_size)\n",
    "            \n",
    "            #Run optimization op and loss op\n",
    "            _, l = sess.run([optimizer, loss], feed_dict={x: batch_x, y: batch_y})\n",
    "            \n",
    "            #Compute average loss\n",
    "            avg_loss = l / total_batch\n",
    "            \n",
    "        #Display logs per epoch step\n",
    "        if epoch % display_step == 0:\n",
    "            print('\\n    Epoch: %d,    average loss= %f' % (epoch+1, l))\n",
    "    print('\\n    Second Optimization Completed!!')\n",
    "    \n",
    "    #Test model\n",
    "    correct_pred = tf.equal(tf.argmax(y_pred, 1), tf.argmax(y, 1))\n",
    "    \n",
    "    #Calculate accuracy\n",
    "    accuracy = tf.reduce_mean(tf.cast(correct_pred, dtype=tf.float32))\n",
    "    print('\\n    Accuracy on test set: ', accuracy.eval({x: mnist.test.images, y:mnist.test.labels}))"
   ]
  },
  {
   "cell_type": "code",
   "execution_count": null,
   "metadata": {
    "collapsed": true
   },
   "outputs": [],
   "source": []
  }
 ],
 "metadata": {
  "anaconda-cloud": {},
  "kernelspec": {
   "display_name": "Python [conda root]",
   "language": "python",
   "name": "conda-root-py"
  },
  "language_info": {
   "codemirror_mode": {
    "name": "ipython",
    "version": 3
   },
   "file_extension": ".py",
   "mimetype": "text/x-python",
   "name": "python",
   "nbconvert_exporter": "python",
   "pygments_lexer": "ipython3",
   "version": "3.5.2"
  }
 },
 "nbformat": 4,
 "nbformat_minor": 1
}
