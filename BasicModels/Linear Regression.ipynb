{
 "cells": [
  {
   "cell_type": "code",
   "execution_count": 1,
   "metadata": {
    "collapsed": false
   },
   "outputs": [
    {
     "name": "stderr",
     "output_type": "stream",
     "text": [
      "C:\\Users\\StrikeWade\\Anaconda3\\lib\\site-packages\\h5py\\__init__.py:36: FutureWarning: Conversion of the second argument of issubdtype from `float` to `np.floating` is deprecated. In future, it will be treated as `np.float64 == np.dtype(float).type`.\n",
      "  from ._conv import register_converters as _register_converters\n"
     ]
    }
   ],
   "source": [
    "import tensorflow as tf\n",
    "import numpy as np\n",
    "import matplotlib.pyplot as plt"
   ]
  },
  {
   "cell_type": "code",
   "execution_count": 2,
   "metadata": {
    "collapsed": true
   },
   "outputs": [],
   "source": [
    "#Parameters\n",
    "learning_rate=0.01\n",
    "training_epochs = 1000\n",
    "display_steps = 50"
   ]
  },
  {
   "cell_type": "code",
   "execution_count": 9,
   "metadata": {
    "collapsed": false
   },
   "outputs": [
    {
     "data": {
      "text/plain": [
       "array([ 0.0323087 , -0.99459131,  0.09926869, -0.88396528,  0.31857903,\n",
       "       -0.72740187,  0.55152933, -0.25434108, -0.36169677, -0.55722995,\n",
       "        0.83367098,  0.88328136, -0.81754174,  0.64379908, -0.31220072,\n",
       "       -0.64883013, -0.12012818, -0.01157285,  0.1808919 , -0.78316092])"
      ]
     },
     "execution_count": 9,
     "metadata": {},
     "output_type": "execute_result"
    }
   ],
   "source": [
    "#Training data\n",
    "x_train = np.array(np.random.uniform(low=-1.0, high=1.0, size=20))\n",
    "y_train = np.array(np.random.uniform(low=-1.0, high=1.0, size=20))\n",
    "n_samples = x_train.shape[0]\n",
    "n_samples\n",
    "x_train"
   ]
  },
  {
   "cell_type": "code",
   "execution_count": 10,
   "metadata": {
    "collapsed": false
   },
   "outputs": [],
   "source": [
    "#tf Graph Input\n",
    "x = tf.placeholder(dtype='float32')\n",
    "y = tf.placeholder(dtype='float32')\n",
    "\n",
    "#Set model weights\n",
    "W = tf.Variable(np.random.randn(), name='weight')\n",
    "b = tf.Variable(np.random.randn(), name='bias')"
   ]
  },
  {
   "cell_type": "code",
   "execution_count": 11,
   "metadata": {
    "collapsed": true
   },
   "outputs": [],
   "source": [
    "#Construct a Linear model\n",
    "prediction = tf.add(tf.multiply(x,W),b)"
   ]
  },
  {
   "cell_type": "code",
   "execution_count": 12,
   "metadata": {
    "collapsed": false
   },
   "outputs": [],
   "source": [
    "#Mean Squared error\n",
    "loss = tf.reduce_sum(tf.pow(prediction-y,2)) / (2*n_samples)\n",
    "#Gradient decent\n",
    "my_optimizer = tf.train.GradientDescentOptimizer(learning_rate).minimize(loss)\n",
    "# my_optimizer = tf.contrib.estimator.clip_gradients_by_norm(optimizer=my_optimizer,clip_norm=5.0)"
   ]
  },
  {
   "cell_type": "code",
   "execution_count": 13,
   "metadata": {
    "collapsed": true
   },
   "outputs": [],
   "source": [
    "#Initialize the variables \n",
    "init = tf.global_variables_initializer()"
   ]
  },
  {
   "cell_type": "code",
   "execution_count": 14,
   "metadata": {
    "collapsed": false
   },
   "outputs": [
    {
     "name": "stdout",
     "output_type": "stream",
     "text": [
      "Epoch: 0050 loss= 0.474860102 W=  0.69512373 b=  -0.52844477\n",
      "Epoch: 0100 loss= 0.294426948 W=  0.57457995 b=  -0.25668627\n",
      "Epoch: 0150 loss= 0.227366284 W=  0.48734474 b=  -0.097723946\n",
      "Epoch: 0200 loss= 0.201458678 W=  0.4222304 b=  -0.0056192656\n",
      "Epoch: 0250 loss= 0.190762922 W=  0.37223125 b=  0.04698169\n",
      "Epoch: 0300 loss= 0.185885817 W=  0.33288497 b=  0.07634891\n",
      "Epoch: 0350 loss= 0.183371827 W=  0.3012894 b=  0.09214389\n",
      "Epoch: 0400 loss= 0.181910858 W=  0.27550772 b=  0.100090966\n",
      "Epoch: 0450 loss= 0.180978790 W=  0.25421125 b=  0.103569925\n",
      "Epoch: 0500 loss= 0.180347040 W=  0.23645614 b=  0.10456695\n",
      "Epoch: 0550 loss= 0.179903820 W=  0.22155388 b=  0.10424039\n",
      "Epoch: 0600 loss= 0.179587096 W=  0.20898432 b=  0.10325864\n",
      "Epoch: 0650 loss= 0.179358676 W=  0.19834617 b=  0.102001004\n",
      "Epoch: 0700 loss= 0.179193214 W=  0.18931958 b=  0.10067714\n",
      "Epoch: 0750 loss= 0.179073080 W=  0.1816468 b=  0.09939755\n",
      "Epoch: 0800 loss= 0.178985789 W=  0.17511716 b=  0.09821604\n",
      "Epoch: 0850 loss= 0.178922340 W=  0.16955478 b=  0.097154275\n",
      "Epoch: 0900 loss= 0.178876221 W=  0.16481428 b=  0.0962162\n",
      "Epoch: 0950 loss= 0.178842708 W=  0.16077209 b=  0.09539659\n",
      "Epoch: 1000 loss= 0.178818375 W=  0.15732385 b=  0.09468557\n",
      "Training Finished!!!\n",
      "Training Loss:  0.17881837 W=  0.15732385 b=  0.09468557\n"
     ]
    },
    {
     "data": {
      "image/png": "[encoded data removed]",
      "text/plain": [
       "<matplotlib.figure.Figure at 0x28c63edff60>"
      ]
     },
     "metadata": {},
     "output_type": "display_data"
    }
   ],
   "source": [
    "#Start training\n",
    "with tf.Session() as sess:\n",
    "    sess.run(init)\n",
    "    \n",
    "    #Fit all training data\n",
    "    for epoch in range(training_epochs):\n",
    "        for (X,Y) in zip(x_train, y_train):\n",
    "            sess.run(my_optimizer, feed_dict={x: X, y: Y})\n",
    "            \n",
    "        #Dislay logs per epoch step\n",
    "        if (epoch+1) % display_steps == 0:\n",
    "            c = sess.run(loss, feed_dict={x: x_train, y: y_train})\n",
    "            print('Epoch: %04d' % (epoch+1), 'loss= {:.9f}'.format(c), 'W= ', sess.run(W), 'b= ', sess.run(b))\n",
    "    \n",
    "    print('Training Finished!!!')\n",
    "    training_loss = sess.run(loss, feed_dict={x: x_train, y: y_train})\n",
    "    print('Training Loss: ', training_loss, 'W= ', sess.run(W), 'b= ', sess.run(b))\n",
    "    \n",
    "    #Plot display\n",
    "    plt.plot(x_train, y_train, 'ro', label='Original data')\n",
    "    plt.plot(x_train, sess.run(W)*x_train+sess.run(b), label='Predicted line')\n",
    "    plt.legend()\n",
    "    plt.show()"
   ]
  },
  {
   "cell_type": "code",
   "execution_count": null,
   "metadata": {
    "collapsed": true
   },
   "outputs": [],
   "source": []
  }
 ],
 "metadata": {
  "anaconda-cloud": {},
  "kernelspec": {
   "display_name": "Python [conda root]",
   "language": "python",
   "name": "conda-root-py"
  },
  "language_info": {
   "codemirror_mode": {
    "name": "ipython",
    "version": 3
   },
   "file_extension": ".py",
   "mimetype": "text/x-python",
   "name": "python",
   "nbconvert_exporter": "python",
   "pygments_lexer": "ipython3",
   "version": "3.5.2"
  }
 },
 "nbformat": 4,
 "nbformat_minor": 1
}
