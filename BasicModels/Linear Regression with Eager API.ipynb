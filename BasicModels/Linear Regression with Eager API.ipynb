{
 "cells": [
  {
   "cell_type": "code",
   "execution_count": 1,
   "metadata": {
    "collapsed": true
   },
   "outputs": [],
   "source": [
    "from __future__ import absolute_import, division, print_function\n",
    "\n",
    "import matplotlib.pyplot as plt\n",
    "import numpy as np\n",
    "import tensorflow as tf\n",
    "import tensorflow.contrib.eager as tfe"
   ]
  },
  {
   "cell_type": "code",
   "execution_count": 2,
   "metadata": {
    "collapsed": true
   },
   "outputs": [],
   "source": [
    "# Set Eager API (without requiring a Session.run() )\n",
    "tfe.enable_eager_execution()"
   ]
  },
  {
   "cell_type": "code",
   "execution_count": 4,
   "metadata": {
    "collapsed": false
   },
   "outputs": [
    {
     "data": {
      "text/plain": [
       "20"
      ]
     },
     "execution_count": 4,
     "metadata": {},
     "output_type": "execute_result"
    }
   ],
   "source": [
    "#Training data\n",
    "x_train = np.array(np.random.uniform(low=-1.0,high=1.0,size=20))\n",
    "y_train = np.array(np.random.uniform(low=-1.0,high=1.0,size=20))\n",
    "n_samples = len(x_train)\n",
    "n_samples"
   ]
  },
  {
   "cell_type": "code",
   "execution_count": 5,
   "metadata": {
    "collapsed": true
   },
   "outputs": [],
   "source": [
    "#Parameters\n",
    "learning_rate = 0.01\n",
    "display_step = 50\n",
    "num_steps = 1000"
   ]
  },
  {
   "cell_type": "code",
   "execution_count": 6,
   "metadata": {
    "collapsed": true
   },
   "outputs": [],
   "source": [
    "#Weight and bias\n",
    "W = tfe.Variable(np.random.randn())\n",
    "b = tfe.Variable(np.random.randn())\n",
    "\n",
    "#Linear Regression\n",
    "def linear_regression(inputs):\n",
    "    return inputs * W + b\n",
    "\n",
    "#Calculate mean squared error\n",
    "def mean_square_error_function(model_function, inputs, labels):\n",
    "    return tf.reduce_sum(tf.pow(model_function(inputs) - labels, 2)) / (2*n_samples)"
   ]
  },
  {
   "cell_type": "code",
   "execution_count": 7,
   "metadata": {
    "collapsed": true
   },
   "outputs": [],
   "source": [
    "#SGD optimizer\n",
    "my_optimizer = tf.train.GradientDescentOptimizer(learning_rate=learning_rate)\n",
    "\n",
    "#Compute gradient\n",
    "grad = tfe.implicit_gradients(mean_square_error_function)"
   ]
  },
  {
   "cell_type": "code",
   "execution_count": 8,
   "metadata": {
    "collapsed": false
   },
   "outputs": [
    {
     "name": "stdout",
     "output_type": "stream",
     "text": [
      "Initial cost= 0.333214223 W=  0.059732128 b=  0.47989875\n",
      "Epoch: 0001 cost= 0.330919445 W=  0.058756314 b=  0.47519684\n",
      "Epoch: 0050 cost= 0.259237170 W=  0.015085576 b=  0.2943093\n",
      "Epoch: 0100 cost= 0.230927423 W=  -0.022265332 b=  0.18224855\n",
      "Epoch: 0150 cost= 0.219656467 W=  -0.053730465 b=  0.1146375\n",
      "Epoch: 0200 cost= 0.214861587 W=  -0.080372296 b=  0.07388984\n",
      "Epoch: 0250 cost= 0.212613776 W=  -0.10301337 b=  0.049370866\n",
      "Epoch: 0300 cost= 0.211428493 W=  -0.12230534 b=  0.03465041\n",
      "Epoch: 0350 cost= 0.210727975 W=  -0.13877481 b=  0.025841422\n",
      "Epoch: 0400 cost= 0.210275367 W=  -0.15285356 b=  0.02059478\n",
      "Epoch: 0450 cost= 0.209965378 W=  -0.16490015 b=  0.017491387\n",
      "Epoch: 0500 cost= 0.209745765 W=  -0.17521499 b=  0.01567447\n",
      "Epoch: 0550 cost= 0.209587291 W=  -0.18405117 b=  0.01462717\n",
      "Epoch: 0600 cost= 0.209471866 W=  -0.19162323 b=  0.014038054\n",
      "Epoch: 0650 cost= 0.209387377 W=  -0.19811358 b=  0.0137197785\n",
      "Epoch: 0700 cost= 0.209325358 W=  -0.20367761 b=  0.013559917\n",
      "Epoch: 0750 cost= 0.209279820 W=  -0.20844822 b=  0.013491238\n",
      "Epoch: 0800 cost= 0.209246352 W=  -0.21253887 b=  0.013473725\n",
      "Epoch: 0850 cost= 0.209221750 W=  -0.21604665 b=  0.013483742\n",
      "Epoch: 0900 cost= 0.209203631 W=  -0.21905477 b=  0.013507478\n",
      "Epoch: 0950 cost= 0.209190324 W=  -0.22163446 b=  0.013536993\n",
      "Epoch: 1000 cost= 0.209180504 W=  -0.22384682 b=  0.013567854\n"
     ]
    },
    {
     "data": {
      "image/png": "[encoded data removed]",
      "text/plain": [
       "<matplotlib.figure.Figure at 0x274ff655898>"
      ]
     },
     "metadata": {},
     "output_type": "display_data"
    }
   ],
   "source": [
    "print('Initial cost= {:.9f}'.format(mean_square_error_function(linear_regression, x_train, y_train)), 'W= ', W.numpy(), 'b= ', b.numpy())\n",
    "\n",
    "#Training\n",
    "for step in range(num_steps):\n",
    "    my_optimizer.apply_gradients(grad(linear_regression, x_train, y_train))\n",
    "    \n",
    "    if (step+1) % display_step == 0 or step == 0:\n",
    "        print('Epoch: %04d' % (step+1), 'cost= {:.9f}'.format(mean_square_error_function(linear_regression, x_train, y_train)),\n",
    "             'W= ', W.numpy(), 'b= ', b.numpy())\n",
    "        \n",
    "#Plot display\n",
    "plt.plot(x_train, y_train, 'ro', label='Inputs')\n",
    "plt.plot(x_train, np.array(W*x_train+b), label='Predicted line')\n",
    "plt.legend()\n",
    "plt.show()"
   ]
  },
  {
   "cell_type": "code",
   "execution_count": null,
   "metadata": {
    "collapsed": true
   },
   "outputs": [],
   "source": []
  }
 ],
 "metadata": {
  "kernelspec": {
   "display_name": "Python [conda root]",
   "language": "python",
   "name": "conda-root-py"
  },
  "language_info": {
   "codemirror_mode": {
    "name": "ipython",
    "version": 3
   },
   "file_extension": ".py",
   "mimetype": "text/x-python",
   "name": "python",
   "nbconvert_exporter": "python",
   "pygments_lexer": "ipython3",
   "version": "3.5.2"
  }
 },
 "nbformat": 4,
 "nbformat_minor": 1
}
